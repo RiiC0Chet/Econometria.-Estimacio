{
 "cells": [
  {
   "cell_type": "markdown",
   "metadata": {},
   "source": [
    "# Estimacion tiempo por vuelta de clasificación F1\n",
    "## Memoria y codigo"
   ]
  },
  {
   "cell_type": "markdown",
   "metadata": {},
   "source": [
    "En un principio teniamos un solo fichero excel en el que tenimos todos los datos iniciales de panel con los que ibamos atrabajar, al intentar cargar del excel la base de datos nos daba fallos en la funcion relaccionados con el propio excel y con el hecho de que fueran de panel, por lo que lo primero que hicimos fue pasarlo a un csv y cambiar la forma de importar los datos al  programa, luego surgieron otros probelemas con la formas de acceder a los datos, el hecho de utilizar eparadores distintos, los decimales con ',', lo cual fuimos solucionando con las distintos cambios en parametros en la llamada a funcion _read_csv_ (pese a eso al final lo arreglamos con la configuracion del excel y csv para no tener que utilizarlos) .\n",
    "\n",
    "Una vez ya cargados los datos, los importaba en formato String (debido a usar ',' como separador en vez de '.', asi no lo reconocia como numero) por lo que no podia hacer calculos con estos y daba error, lo que solucionamos rapidamente transformandolos de string a float con la llamada a X.astype('float64').\n",
    "\n",
    "Cuando empezamos a estimar el modelo nos dimos cuenta de los distintos problemas que podiamos tener, como era el de una multicolinealidad muy fuerte entre distintas variables de nuestra base de datos, con lo que empezamos a calcular los VIFS, matriz de correlaccion, etc... (explicado mas claramente en los distintos apartados).\n",
    "\n",
    "Debido a todos estos cambios que fue sufriendo nuestro modelo de cambio en las variables, probamos con transformas algunas de ellas en log(), ir proponiendo nuevos modelos usando algunas variables y otras no, etc... para intentar reducir la multicolinealidad, comprobamos durante 2 semanas distintos conjunto de datos, hasta que nos dimos cuienta que el principal problema era la variable presupuesto (pese a ser la unica que realmente no tenia ninguna relaccion aparente con el resto) y ya hallamos el modelo que utilizamos finalmente (todos estos cambios fueron los que generaron todos los archivos excel y csv que tenemos en la carpeta datos).\n",
    "\n",
    "El punto viene tambien en que para realizar estos cambios y probar con todas esas distintas combinaciones tuvimos que cambiar la forma en la que importabamos los datos a la matriz X, ya que al tratarse por columnas era muy complejo tener que dejar columnas entre medias son ser selccionadas. Esto lo solucionamos accediendo a los datos igual que en las practicas, para lo cual incluimos en la llamada a read_csv un parametro _\"header = 0\"_, con el que se incluye la primera fila del csv (donde aparece el nombre de cada variable), de esta forma accediendo luego con _\"datos_f1.columns\"_ a los nombres de las distintas variables podriamos coger las variables por sus nombres y no por las columnas."
   ]
  },
  {
   "cell_type": "code",
   "execution_count": 126,
   "metadata": {},
   "outputs": [
    {
     "data": {
      "text/html": [
       "<div>\n",
       "<style scoped>\n",
       "    .dataframe tbody tr th:only-of-type {\n",
       "        vertical-align: middle;\n",
       "    }\n",
       "\n",
       "    .dataframe tbody tr th {\n",
       "        vertical-align: top;\n",
       "    }\n",
       "\n",
       "    .dataframe thead th {\n",
       "        text-align: right;\n",
       "    }\n",
       "</style>\n",
       "<table border=\"1\" class=\"dataframe\">\n",
       "  <thead>\n",
       "    <tr style=\"text-align: right;\">\n",
       "      <th></th>\n",
       "      <th>Tiempo Qualy (milisegundos)</th>\n",
       "      <th>Length (m)</th>\n",
       "      <th>Curva lenta</th>\n",
       "      <th>Curva media</th>\n",
       "      <th>Curva rapida</th>\n",
       "      <th>Presupuesto (mill. Euros)</th>\n",
       "      <th>Asphalt Abrasion</th>\n",
       "      <th>log(aa)</th>\n",
       "      <th>log(cl)</th>\n",
       "      <th>log(cm)</th>\n",
       "      <th>log(cr)</th>\n",
       "      <th>log(ag)</th>\n",
       "      <th>A�o</th>\n",
       "      <th>Race</th>\n",
       "      <th>procentaje de tiempo con el acelerador a fondo</th>\n",
       "      <th>porcentaje de tiempo de frenada</th>\n",
       "      <th>Downforce</th>\n",
       "      <th>Tyre Stress</th>\n",
       "      <th>Lateral energy</th>\n",
       "      <th>Asphalt Grip</th>\n",
       "    </tr>\n",
       "  </thead>\n",
       "  <tbody>\n",
       "    <tr>\n",
       "      <th>0</th>\n",
       "      <td>83.485</td>\n",
       "      <td>5.303</td>\n",
       "      <td>6</td>\n",
       "      <td>4</td>\n",
       "      <td>5</td>\n",
       "      <td>429.5</td>\n",
       "      <td>3</td>\n",
       "      <td>0.477121</td>\n",
       "      <td>0.77815125</td>\n",
       "      <td>0.602060</td>\n",
       "      <td>0.698970</td>\n",
       "      <td>0.000000</td>\n",
       "      <td>2017</td>\n",
       "      <td>Australia</td>\n",
       "      <td>64</td>\n",
       "      <td>13.0</td>\n",
       "      <td>4</td>\n",
       "      <td>1</td>\n",
       "      <td>2</td>\n",
       "      <td>1</td>\n",
       "    </tr>\n",
       "    <tr>\n",
       "      <th>1</th>\n",
       "      <td>81.879</td>\n",
       "      <td>5.303</td>\n",
       "      <td>6</td>\n",
       "      <td>4</td>\n",
       "      <td>5</td>\n",
       "      <td>350.0</td>\n",
       "      <td>3</td>\n",
       "      <td>0.477121</td>\n",
       "      <td>0.77815125</td>\n",
       "      <td>0.602060</td>\n",
       "      <td>0.698970</td>\n",
       "      <td>0.000000</td>\n",
       "      <td>2018</td>\n",
       "      <td>Australia</td>\n",
       "      <td>64</td>\n",
       "      <td>13.0</td>\n",
       "      <td>4</td>\n",
       "      <td>1</td>\n",
       "      <td>2</td>\n",
       "      <td>1</td>\n",
       "    </tr>\n",
       "    <tr>\n",
       "      <th>2</th>\n",
       "      <td>81.320</td>\n",
       "      <td>5.303</td>\n",
       "      <td>6</td>\n",
       "      <td>4</td>\n",
       "      <td>5</td>\n",
       "      <td>260.0</td>\n",
       "      <td>3</td>\n",
       "      <td>0.477121</td>\n",
       "      <td>0.77815125</td>\n",
       "      <td>0.602060</td>\n",
       "      <td>0.698970</td>\n",
       "      <td>0.000000</td>\n",
       "      <td>2019</td>\n",
       "      <td>Australia</td>\n",
       "      <td>64</td>\n",
       "      <td>13.0</td>\n",
       "      <td>4</td>\n",
       "      <td>1</td>\n",
       "      <td>2</td>\n",
       "      <td>1</td>\n",
       "    </tr>\n",
       "    <tr>\n",
       "      <th>3</th>\n",
       "      <td>69.687</td>\n",
       "      <td>5.412</td>\n",
       "      <td>3</td>\n",
       "      <td>7</td>\n",
       "      <td>2</td>\n",
       "      <td>429.5</td>\n",
       "      <td>5</td>\n",
       "      <td>0.698970</td>\n",
       "      <td>0.477121255</td>\n",
       "      <td>0.845098</td>\n",
       "      <td>0.301030</td>\n",
       "      <td>0.602060</td>\n",
       "      <td>2017</td>\n",
       "      <td>Bahrain</td>\n",
       "      <td>64</td>\n",
       "      <td>16.0</td>\n",
       "      <td>2</td>\n",
       "      <td>3</td>\n",
       "      <td>3</td>\n",
       "      <td>4</td>\n",
       "    </tr>\n",
       "    <tr>\n",
       "      <th>4</th>\n",
       "      <td>69.378</td>\n",
       "      <td>5.412</td>\n",
       "      <td>3</td>\n",
       "      <td>7</td>\n",
       "      <td>2</td>\n",
       "      <td>350.0</td>\n",
       "      <td>5</td>\n",
       "      <td>0.698970</td>\n",
       "      <td>0.477121255</td>\n",
       "      <td>0.845098</td>\n",
       "      <td>0.301030</td>\n",
       "      <td>0.602060</td>\n",
       "      <td>2018</td>\n",
       "      <td>Bahrain</td>\n",
       "      <td>64</td>\n",
       "      <td>16.0</td>\n",
       "      <td>2</td>\n",
       "      <td>3</td>\n",
       "      <td>3</td>\n",
       "      <td>4</td>\n",
       "    </tr>\n",
       "    <tr>\n",
       "      <th>...</th>\n",
       "      <td>...</td>\n",
       "      <td>...</td>\n",
       "      <td>...</td>\n",
       "      <td>...</td>\n",
       "      <td>...</td>\n",
       "      <td>...</td>\n",
       "      <td>...</td>\n",
       "      <td>...</td>\n",
       "      <td>...</td>\n",
       "      <td>...</td>\n",
       "      <td>...</td>\n",
       "      <td>...</td>\n",
       "      <td>...</td>\n",
       "      <td>...</td>\n",
       "      <td>...</td>\n",
       "      <td>...</td>\n",
       "      <td>...</td>\n",
       "      <td>...</td>\n",
       "      <td>...</td>\n",
       "      <td>...</td>\n",
       "    </tr>\n",
       "    <tr>\n",
       "      <th>58</th>\n",
       "      <td>67.778</td>\n",
       "      <td>4.309</td>\n",
       "      <td>1</td>\n",
       "      <td>6</td>\n",
       "      <td>7</td>\n",
       "      <td>350.0</td>\n",
       "      <td>3</td>\n",
       "      <td>0.477121</td>\n",
       "      <td>0</td>\n",
       "      <td>0.778151</td>\n",
       "      <td>0.845098</td>\n",
       "      <td>0.477121</td>\n",
       "      <td>2018</td>\n",
       "      <td>Brazil</td>\n",
       "      <td>60</td>\n",
       "      <td>16.0</td>\n",
       "      <td>4</td>\n",
       "      <td>3</td>\n",
       "      <td>4</td>\n",
       "      <td>3</td>\n",
       "    </tr>\n",
       "    <tr>\n",
       "      <th>59</th>\n",
       "      <td>67.508</td>\n",
       "      <td>4.309</td>\n",
       "      <td>1</td>\n",
       "      <td>6</td>\n",
       "      <td>7</td>\n",
       "      <td>260.0</td>\n",
       "      <td>3</td>\n",
       "      <td>0.477121</td>\n",
       "      <td>0</td>\n",
       "      <td>0.778151</td>\n",
       "      <td>0.845098</td>\n",
       "      <td>0.477121</td>\n",
       "      <td>2019</td>\n",
       "      <td>Brazil</td>\n",
       "      <td>60</td>\n",
       "      <td>16.0</td>\n",
       "      <td>4</td>\n",
       "      <td>3</td>\n",
       "      <td>4</td>\n",
       "      <td>3</td>\n",
       "    </tr>\n",
       "    <tr>\n",
       "      <th>60</th>\n",
       "      <td>97.328</td>\n",
       "      <td>5.554</td>\n",
       "      <td>8</td>\n",
       "      <td>5</td>\n",
       "      <td>4</td>\n",
       "      <td>429.5</td>\n",
       "      <td>2</td>\n",
       "      <td>0.301030</td>\n",
       "      <td>0.903089987</td>\n",
       "      <td>0.698970</td>\n",
       "      <td>0.602060</td>\n",
       "      <td>0.301030</td>\n",
       "      <td>2017</td>\n",
       "      <td>Abu Dhabi</td>\n",
       "      <td>60</td>\n",
       "      <td>17.0</td>\n",
       "      <td>3</td>\n",
       "      <td>2</td>\n",
       "      <td>3</td>\n",
       "      <td>2</td>\n",
       "    </tr>\n",
       "    <tr>\n",
       "      <th>61</th>\n",
       "      <td>95.589</td>\n",
       "      <td>5.554</td>\n",
       "      <td>8</td>\n",
       "      <td>5</td>\n",
       "      <td>4</td>\n",
       "      <td>350.0</td>\n",
       "      <td>2</td>\n",
       "      <td>0.301030</td>\n",
       "      <td>0.903089987</td>\n",
       "      <td>0.698970</td>\n",
       "      <td>0.602060</td>\n",
       "      <td>0.301030</td>\n",
       "      <td>2018</td>\n",
       "      <td>Abu Dhabi</td>\n",
       "      <td>60</td>\n",
       "      <td>17.0</td>\n",
       "      <td>3</td>\n",
       "      <td>2</td>\n",
       "      <td>3</td>\n",
       "      <td>2</td>\n",
       "    </tr>\n",
       "    <tr>\n",
       "      <th>62</th>\n",
       "      <td>95.139</td>\n",
       "      <td>5.554</td>\n",
       "      <td>8</td>\n",
       "      <td>5</td>\n",
       "      <td>4</td>\n",
       "      <td>260.0</td>\n",
       "      <td>2</td>\n",
       "      <td>0.301030</td>\n",
       "      <td>0.903089987</td>\n",
       "      <td>0.698970</td>\n",
       "      <td>0.602060</td>\n",
       "      <td>0.301030</td>\n",
       "      <td>2019</td>\n",
       "      <td>Abu Dhabi</td>\n",
       "      <td>60</td>\n",
       "      <td>17.0</td>\n",
       "      <td>3</td>\n",
       "      <td>2</td>\n",
       "      <td>3</td>\n",
       "      <td>2</td>\n",
       "    </tr>\n",
       "  </tbody>\n",
       "</table>\n",
       "<p>63 rows × 20 columns</p>\n",
       "</div>"
      ],
      "text/plain": [
       "    Tiempo Qualy (milisegundos)  Length (m)  Curva lenta  Curva media  \\\n",
       "0                        83.485       5.303            6            4   \n",
       "1                        81.879       5.303            6            4   \n",
       "2                        81.320       5.303            6            4   \n",
       "3                        69.687       5.412            3            7   \n",
       "4                        69.378       5.412            3            7   \n",
       "..                          ...         ...          ...          ...   \n",
       "58                       67.778       4.309            1            6   \n",
       "59                       67.508       4.309            1            6   \n",
       "60                       97.328       5.554            8            5   \n",
       "61                       95.589       5.554            8            5   \n",
       "62                       95.139       5.554            8            5   \n",
       "\n",
       "    Curva rapida  Presupuesto (mill. Euros)  Asphalt Abrasion   log(aa)  \\\n",
       "0              5                      429.5                 3  0.477121   \n",
       "1              5                      350.0                 3  0.477121   \n",
       "2              5                      260.0                 3  0.477121   \n",
       "3              2                      429.5                 5  0.698970   \n",
       "4              2                      350.0                 5  0.698970   \n",
       "..           ...                        ...               ...       ...   \n",
       "58             7                      350.0                 3  0.477121   \n",
       "59             7                      260.0                 3  0.477121   \n",
       "60             4                      429.5                 2  0.301030   \n",
       "61             4                      350.0                 2  0.301030   \n",
       "62             4                      260.0                 2  0.301030   \n",
       "\n",
       "        log(cl)   log(cm)   log(cr)   log(ag)   A�o       Race  \\\n",
       "0    0.77815125  0.602060  0.698970  0.000000  2017  Australia   \n",
       "1    0.77815125  0.602060  0.698970  0.000000  2018  Australia   \n",
       "2    0.77815125  0.602060  0.698970  0.000000  2019  Australia   \n",
       "3   0.477121255  0.845098  0.301030  0.602060  2017    Bahrain   \n",
       "4   0.477121255  0.845098  0.301030  0.602060  2018    Bahrain   \n",
       "..          ...       ...       ...       ...   ...        ...   \n",
       "58            0  0.778151  0.845098  0.477121  2018     Brazil   \n",
       "59            0  0.778151  0.845098  0.477121  2019     Brazil   \n",
       "60  0.903089987  0.698970  0.602060  0.301030  2017  Abu Dhabi   \n",
       "61  0.903089987  0.698970  0.602060  0.301030  2018  Abu Dhabi   \n",
       "62  0.903089987  0.698970  0.602060  0.301030  2019  Abu Dhabi   \n",
       "\n",
       "    procentaje de tiempo con el acelerador a fondo  \\\n",
       "0                                               64   \n",
       "1                                               64   \n",
       "2                                               64   \n",
       "3                                               64   \n",
       "4                                               64   \n",
       "..                                             ...   \n",
       "58                                              60   \n",
       "59                                              60   \n",
       "60                                              60   \n",
       "61                                              60   \n",
       "62                                              60   \n",
       "\n",
       "    porcentaje de tiempo de frenada  Downforce  Tyre Stress  Lateral energy  \\\n",
       "0                              13.0          4            1               2   \n",
       "1                              13.0          4            1               2   \n",
       "2                              13.0          4            1               2   \n",
       "3                              16.0          2            3               3   \n",
       "4                              16.0          2            3               3   \n",
       "..                              ...        ...          ...             ...   \n",
       "58                             16.0          4            3               4   \n",
       "59                             16.0          4            3               4   \n",
       "60                             17.0          3            2               3   \n",
       "61                             17.0          3            2               3   \n",
       "62                             17.0          3            2               3   \n",
       "\n",
       "    Asphalt Grip  \n",
       "0              1  \n",
       "1              1  \n",
       "2              1  \n",
       "3              4  \n",
       "4              4  \n",
       "..           ...  \n",
       "58             3  \n",
       "59             3  \n",
       "60             2  \n",
       "61             2  \n",
       "62             2  \n",
       "\n",
       "[63 rows x 20 columns]"
      ]
     },
     "execution_count": 126,
     "metadata": {},
     "output_type": "execute_result"
    }
   ],
   "source": [
    "import statsmodels.api as sm\n",
    "import pandas as pd #librería para manejo de datos\n",
    "import statsmodels.stats.api as sms\n",
    "from statsmodels.compat import lzip\n",
    "import numpy as np\n",
    "\n",
    "datos_f1=pd.read_csv('datos/Datos F1_noMulti.csv', header=0)\n",
    "\n",
    "datos_f1\n"
   ]
  },
  {
   "cell_type": "code",
   "execution_count": 127,
   "metadata": {},
   "outputs": [
    {
     "data": {
      "text/plain": [
       "['Tiempo Qualy (milisegundos)',\n",
       " 'Length (m)',\n",
       " 'Curva lenta',\n",
       " 'Curva media',\n",
       " 'Curva rapida',\n",
       " 'Presupuesto (mill. Euros)',\n",
       " 'Asphalt Abrasion',\n",
       " 'log(aa)',\n",
       " 'log(cl)',\n",
       " 'log(cm)',\n",
       " 'log(cr)',\n",
       " 'log(ag)',\n",
       " 'A�o',\n",
       " 'Race',\n",
       " 'procentaje de tiempo con el acelerador a fondo',\n",
       " 'porcentaje de tiempo de frenada',\n",
       " 'Downforce',\n",
       " 'Tyre Stress',\n",
       " 'Lateral energy',\n",
       " 'Asphalt Grip']"
      ]
     },
     "execution_count": 127,
     "metadata": {},
     "output_type": "execute_result"
    }
   ],
   "source": [
    "list(datos_f1.columns)"
   ]
  },
  {
   "cell_type": "markdown",
   "metadata": {},
   "source": [
    "Este es el modelo inicial que teneiamos al estimarlo con todas las variables propuestas en un principio.\n",
    "\n",
    "Como se puede observar tenemos un claro problema de multicolinealidad, con un conditicion number de 1.42e+08, DW de 2.013, por lo que problemas de autocorrelacicon no parece que hubiera.\n",
    "\n",
    "En cuanto a la significaicon, habia significaicon global con un F experimental de 1.80e-17, la sigfnificacion individual de las variables, 5 de ellas eran significativas individualmente.\n"
   ]
  },
  {
   "cell_type": "code",
   "execution_count": 128,
   "metadata": {},
   "outputs": [
    {
     "data": {
      "text/html": [
       "<table class=\"simpletable\">\n",
       "<caption>OLS Regression Results</caption>\n",
       "<tr>\n",
       "  <th>Dep. Variable:</th>            <td>y</td>        <th>  R-squared:         </th> <td>   0.872</td>\n",
       "</tr>\n",
       "<tr>\n",
       "  <th>Model:</th>                   <td>OLS</td>       <th>  Adj. R-squared:    </th> <td>   0.839</td>\n",
       "</tr>\n",
       "<tr>\n",
       "  <th>Method:</th>             <td>Least Squares</td>  <th>  F-statistic:       </th> <td>   25.77</td>\n",
       "</tr>\n",
       "<tr>\n",
       "  <th>Date:</th>             <td>Tue, 07 Dec 2021</td> <th>  Prob (F-statistic):</th> <td>1.80e-17</td>\n",
       "</tr>\n",
       "<tr>\n",
       "  <th>Time:</th>                 <td>13:09:53</td>     <th>  Log-Likelihood:    </th> <td> -184.37</td>\n",
       "</tr>\n",
       "<tr>\n",
       "  <th>No. Observations:</th>      <td>    63</td>      <th>  AIC:               </th> <td>   396.7</td>\n",
       "</tr>\n",
       "<tr>\n",
       "  <th>Df Residuals:</th>          <td>    49</td>      <th>  BIC:               </th> <td>   426.7</td>\n",
       "</tr>\n",
       "<tr>\n",
       "  <th>Df Model:</th>              <td>    13</td>      <th>                     </th>     <td> </td>   \n",
       "</tr>\n",
       "<tr>\n",
       "  <th>Covariance Type:</th>      <td>nonrobust</td>    <th>                     </th>     <td> </td>   \n",
       "</tr>\n",
       "</table>\n",
       "<table class=\"simpletable\">\n",
       "<tr>\n",
       "                         <td></td>                           <th>coef</th>     <th>std err</th>      <th>t</th>      <th>P>|t|</th>  <th>[0.025</th>    <th>0.975]</th>  \n",
       "</tr>\n",
       "<tr>\n",
       "  <th>const</th>                                          <td>-3.809e+04</td> <td> 4.47e+04</td> <td>   -0.852</td> <td> 0.398</td> <td>-1.28e+05</td> <td> 5.17e+04</td>\n",
       "</tr>\n",
       "<tr>\n",
       "  <th>Length (m)</th>                                     <td>   11.4177</td> <td>    1.921</td> <td>    5.942</td> <td> 0.000</td> <td>    7.556</td> <td>   15.279</td>\n",
       "</tr>\n",
       "<tr>\n",
       "  <th>Curva lenta</th>                                    <td>    2.9419</td> <td>    0.518</td> <td>    5.683</td> <td> 0.000</td> <td>    1.902</td> <td>    3.982</td>\n",
       "</tr>\n",
       "<tr>\n",
       "  <th>Curva media</th>                                    <td>   -2.1852</td> <td>    0.795</td> <td>   -2.748</td> <td> 0.008</td> <td>   -3.783</td> <td>   -0.587</td>\n",
       "</tr>\n",
       "<tr>\n",
       "  <th>Curva rapida</th>                                   <td>    0.7530</td> <td>    0.503</td> <td>    1.498</td> <td> 0.141</td> <td>   -0.257</td> <td>    1.763</td>\n",
       "</tr>\n",
       "<tr>\n",
       "  <th>Presupuesto (mill. Euros)</th>                      <td>    0.2370</td> <td>    0.261</td> <td>    0.909</td> <td> 0.368</td> <td>   -0.287</td> <td>    0.761</td>\n",
       "</tr>\n",
       "<tr>\n",
       "  <th>Asphalt Abrasion</th>                               <td>   -3.0421</td> <td>    0.955</td> <td>   -3.185</td> <td> 0.003</td> <td>   -4.961</td> <td>   -1.123</td>\n",
       "</tr>\n",
       "<tr>\n",
       "  <th>A�o</th>                                            <td>   18.8477</td> <td>   22.105</td> <td>    0.853</td> <td> 0.398</td> <td>  -25.574</td> <td>   63.269</td>\n",
       "</tr>\n",
       "<tr>\n",
       "  <th>procentaje de tiempo con el acelerador a fondo</th> <td>   -0.0915</td> <td>    0.061</td> <td>   -1.505</td> <td> 0.139</td> <td>   -0.214</td> <td>    0.031</td>\n",
       "</tr>\n",
       "<tr>\n",
       "  <th>porcentaje de tiempo de frenada</th>                <td>   -0.1015</td> <td>    0.334</td> <td>   -0.304</td> <td> 0.762</td> <td>   -0.773</td> <td>    0.570</td>\n",
       "</tr>\n",
       "<tr>\n",
       "  <th>Downforce</th>                                      <td>   -0.3179</td> <td>    1.367</td> <td>   -0.233</td> <td> 0.817</td> <td>   -3.065</td> <td>    2.429</td>\n",
       "</tr>\n",
       "<tr>\n",
       "  <th>Tyre Stress</th>                                    <td>   -1.4723</td> <td>    1.209</td> <td>   -1.218</td> <td> 0.229</td> <td>   -3.902</td> <td>    0.957</td>\n",
       "</tr>\n",
       "<tr>\n",
       "  <th>Lateral energy</th>                                 <td>    1.3061</td> <td>    1.324</td> <td>    0.987</td> <td> 0.329</td> <td>   -1.354</td> <td>    3.967</td>\n",
       "</tr>\n",
       "<tr>\n",
       "  <th>Asphalt Grip</th>                                   <td>    4.1089</td> <td>    1.569</td> <td>    2.619</td> <td> 0.012</td> <td>    0.957</td> <td>    7.261</td>\n",
       "</tr>\n",
       "</table>\n",
       "<table class=\"simpletable\">\n",
       "<tr>\n",
       "  <th>Omnibus:</th>       <td>33.520</td> <th>  Durbin-Watson:     </th> <td>   2.013</td>\n",
       "</tr>\n",
       "<tr>\n",
       "  <th>Prob(Omnibus):</th> <td> 0.000</td> <th>  Jarque-Bera (JB):  </th> <td>  74.034</td>\n",
       "</tr>\n",
       "<tr>\n",
       "  <th>Skew:</th>          <td> 1.730</td> <th>  Prob(JB):          </th> <td>8.39e-17</td>\n",
       "</tr>\n",
       "<tr>\n",
       "  <th>Kurtosis:</th>      <td> 7.029</td> <th>  Cond. No.          </th> <td>1.42e+08</td>\n",
       "</tr>\n",
       "</table><br/><br/>Notes:<br/>[1] Standard Errors assume that the covariance matrix of the errors is correctly specified.<br/>[2] The condition number is large, 1.42e+08. This might indicate that there are<br/>strong multicollinearity or other numerical problems."
      ],
      "text/plain": [
       "<class 'statsmodels.iolib.summary.Summary'>\n",
       "\"\"\"\n",
       "                            OLS Regression Results                            \n",
       "==============================================================================\n",
       "Dep. Variable:                      y   R-squared:                       0.872\n",
       "Model:                            OLS   Adj. R-squared:                  0.839\n",
       "Method:                 Least Squares   F-statistic:                     25.77\n",
       "Date:                Tue, 07 Dec 2021   Prob (F-statistic):           1.80e-17\n",
       "Time:                        13:09:53   Log-Likelihood:                -184.37\n",
       "No. Observations:                  63   AIC:                             396.7\n",
       "Df Residuals:                      49   BIC:                             426.7\n",
       "Df Model:                          13                                         \n",
       "Covariance Type:            nonrobust                                         \n",
       "==================================================================================================================\n",
       "                                                     coef    std err          t      P>|t|      [0.025      0.975]\n",
       "------------------------------------------------------------------------------------------------------------------\n",
       "const                                          -3.809e+04   4.47e+04     -0.852      0.398   -1.28e+05    5.17e+04\n",
       "Length (m)                                        11.4177      1.921      5.942      0.000       7.556      15.279\n",
       "Curva lenta                                        2.9419      0.518      5.683      0.000       1.902       3.982\n",
       "Curva media                                       -2.1852      0.795     -2.748      0.008      -3.783      -0.587\n",
       "Curva rapida                                       0.7530      0.503      1.498      0.141      -0.257       1.763\n",
       "Presupuesto (mill. Euros)                          0.2370      0.261      0.909      0.368      -0.287       0.761\n",
       "Asphalt Abrasion                                  -3.0421      0.955     -3.185      0.003      -4.961      -1.123\n",
       "A�o                                               18.8477     22.105      0.853      0.398     -25.574      63.269\n",
       "procentaje de tiempo con el acelerador a fondo    -0.0915      0.061     -1.505      0.139      -0.214       0.031\n",
       "porcentaje de tiempo de frenada                   -0.1015      0.334     -0.304      0.762      -0.773       0.570\n",
       "Downforce                                         -0.3179      1.367     -0.233      0.817      -3.065       2.429\n",
       "Tyre Stress                                       -1.4723      1.209     -1.218      0.229      -3.902       0.957\n",
       "Lateral energy                                     1.3061      1.324      0.987      0.329      -1.354       3.967\n",
       "Asphalt Grip                                       4.1089      1.569      2.619      0.012       0.957       7.261\n",
       "==============================================================================\n",
       "Omnibus:                       33.520   Durbin-Watson:                   2.013\n",
       "Prob(Omnibus):                  0.000   Jarque-Bera (JB):               74.034\n",
       "Skew:                           1.730   Prob(JB):                     8.39e-17\n",
       "Kurtosis:                       7.029   Cond. No.                     1.42e+08\n",
       "==============================================================================\n",
       "\n",
       "Notes:\n",
       "[1] Standard Errors assume that the covariance matrix of the errors is correctly specified.\n",
       "[2] The condition number is large, 1.42e+08. This might indicate that there are\n",
       "strong multicollinearity or other numerical problems.\n",
       "\"\"\""
      ]
     },
     "execution_count": 128,
     "metadata": {},
     "output_type": "execute_result"
    }
   ],
   "source": [
    "lista = datos_f1[['Length (m)',\n",
    " 'Curva lenta',\n",
    " 'Curva media',\n",
    " 'Curva rapida',\n",
    " 'Presupuesto (mill. Euros)',\n",
    " 'Asphalt Abrasion',\n",
    " 'A�o',\n",
    " 'procentaje de tiempo con el acelerador a fondo',\n",
    " 'porcentaje de tiempo de frenada',\n",
    " 'Downforce',\n",
    " 'Tyre Stress',\n",
    " 'Lateral energy',\n",
    " 'Asphalt Grip']]\n",
    " \n",
    "X=lista\n",
    "X = X.astype('float64')\n",
    "y=datos_f1.values[:,0]\n",
    "y = y.astype('float64')\n",
    "#print(X)\n",
    "mco2 = sm.OLS(y, sm.add_constant(X)).fit()\n",
    "\n",
    "mco2.summary()"
   ]
  },
  {
   "cell_type": "markdown",
   "metadata": {},
   "source": [
    "Una vez estimado lo primero que nos pusimos a arreglar el problema de multicolinealidad, ya que como esta claro teniamos un problema, con NC y los VIFS extremadamente altos."
   ]
  },
  {
   "cell_type": "code",
   "execution_count": 129,
   "metadata": {},
   "outputs": [
    {
     "data": {
      "text/plain": [
       "[243.79488635679184,\n",
       " 20.450121603310286,\n",
       " 50.59305334128654,\n",
       " 11.277173922585359,\n",
       " 25.93873672686255,\n",
       " 16.69933010291783,\n",
       " 528.0823516925276,\n",
       " 29.82501279631423,\n",
       " 56.16070940892564,\n",
       " 50.684848326650645,\n",
       " 37.961666726387165,\n",
       " 47.731304211696745,\n",
       " 47.58616355014205]"
      ]
     },
     "execution_count": 129,
     "metadata": {},
     "output_type": "execute_result"
    }
   ],
   "source": [
    "import statsmodels.stats.outliers_influence as oi\n",
    "\n",
    "#Para la primera variable\n",
    "#1-(1-(R^2)) = 284 ; R = 0.9964\n",
    "#Se podria decir que el tamanio dle edificio lo puedo escribir en funcion de las otas 2 variables\n",
    "\n",
    "#Factor de inflacion de la varianza, con el for hacemos que salga  para toda las variables\n",
    "vifs=[oi.variance_inflation_factor(X.values, i) for i in range(X.shape[1])]\n",
    "#Hay problema de multicolinealidad, si vif es mayor que 10 y si es mayor que 20, problema grave\n",
    "#HAY MULTICOLINEALIDAD\n",
    "vifs"
   ]
  },
  {
   "cell_type": "markdown",
   "metadata": {},
   "source": [
    "Para poder ver de una forma mas facil imprimiamos cada vez que haciamos un cambio en la estimacion imprimiamos la matriz de correlacciones entre las variables, para asi poder ir cambiando el modelo en funcion de eso.\n",
    "\n",
    "Cuando veiamos que una variable tenia una relaccion muy directa con otra probabamos antes de quityarla del modelo a hacerle log para ver si asi reducia la multicolinealidad, aunque esta solucion pocas veces era efectiva probamos con bastantes, para asi solo eliminar variables en caso de haber probado todas las otras opciones posibles."
   ]
  },
  {
   "cell_type": "code",
   "execution_count": 130,
   "metadata": {},
   "outputs": [
    {
     "data": {
      "image/png": "[encoded data removed]",
      "text/plain": [
       "<Figure size 432x288 with 2 Axes>"
      ]
     },
     "metadata": {
      "needs_background": "light"
     },
     "output_type": "display_data"
    }
   ],
   "source": [
    "#Matriz de correlacciones\n",
    "corr_matrix=np.corrcoef(X.T) #X.T = matriz X traspuesta\n",
    "#Lo ideal es que la matriz fuese la identidad\n",
    "\n",
    "import statsmodels.graphics.api as smg\n",
    "import matplotlib.pylab as plt\n",
    "smg.plot_corr(corr_matrix, xnames=lista)\n",
    "plt.show()"
   ]
  },
  {
   "cell_type": "markdown",
   "metadata": {},
   "source": [
    "Despues de todos los cambios anteriormente mencionados, este fue el modelo con el que nos quedamos, con el porblema de multicolinealidad medianamente resuelto, NC = 93.6."
   ]
  },
  {
   "cell_type": "code",
   "execution_count": 131,
   "metadata": {},
   "outputs": [
    {
     "data": {
      "text/html": [
       "<table class=\"simpletable\">\n",
       "<caption>OLS Regression Results</caption>\n",
       "<tr>\n",
       "  <th>Dep. Variable:</th>            <td>y</td>        <th>  R-squared:         </th> <td>   0.846</td>\n",
       "</tr>\n",
       "<tr>\n",
       "  <th>Model:</th>                   <td>OLS</td>       <th>  Adj. R-squared:    </th> <td>   0.830</td>\n",
       "</tr>\n",
       "<tr>\n",
       "  <th>Method:</th>             <td>Least Squares</td>  <th>  F-statistic:       </th> <td>   51.38</td>\n",
       "</tr>\n",
       "<tr>\n",
       "  <th>Date:</th>             <td>Tue, 07 Dec 2021</td> <th>  Prob (F-statistic):</th> <td>5.34e-21</td>\n",
       "</tr>\n",
       "<tr>\n",
       "  <th>Time:</th>                 <td>13:09:55</td>     <th>  Log-Likelihood:    </th> <td> -190.24</td>\n",
       "</tr>\n",
       "<tr>\n",
       "  <th>No. Observations:</th>      <td>    63</td>      <th>  AIC:               </th> <td>   394.5</td>\n",
       "</tr>\n",
       "<tr>\n",
       "  <th>Df Residuals:</th>          <td>    56</td>      <th>  BIC:               </th> <td>   409.5</td>\n",
       "</tr>\n",
       "<tr>\n",
       "  <th>Df Model:</th>              <td>     6</td>      <th>                     </th>     <td> </td>   \n",
       "</tr>\n",
       "<tr>\n",
       "  <th>Covariance Type:</th>      <td>nonrobust</td>    <th>                     </th>     <td> </td>   \n",
       "</tr>\n",
       "</table>\n",
       "<table class=\"simpletable\">\n",
       "<tr>\n",
       "          <td></td>            <th>coef</th>     <th>std err</th>      <th>t</th>      <th>P>|t|</th>  <th>[0.025</th>    <th>0.975]</th>  \n",
       "</tr>\n",
       "<tr>\n",
       "  <th>const</th>            <td>   18.2686</td> <td>    5.206</td> <td>    3.509</td> <td> 0.001</td> <td>    7.841</td> <td>   28.697</td>\n",
       "</tr>\n",
       "<tr>\n",
       "  <th>Length (m)</th>       <td>   11.1619</td> <td>    1.008</td> <td>   11.079</td> <td> 0.000</td> <td>    9.144</td> <td>   13.180</td>\n",
       "</tr>\n",
       "<tr>\n",
       "  <th>Curva lenta</th>      <td>    3.0060</td> <td>    0.349</td> <td>    8.605</td> <td> 0.000</td> <td>    2.306</td> <td>    3.706</td>\n",
       "</tr>\n",
       "<tr>\n",
       "  <th>Curva media</th>      <td>   -1.6756</td> <td>    0.586</td> <td>   -2.858</td> <td> 0.006</td> <td>   -2.850</td> <td>   -0.501</td>\n",
       "</tr>\n",
       "<tr>\n",
       "  <th>Curva rapida</th>     <td>    0.4821</td> <td>    0.405</td> <td>    1.190</td> <td> 0.239</td> <td>   -0.329</td> <td>    1.294</td>\n",
       "</tr>\n",
       "<tr>\n",
       "  <th>log(ag)</th>          <td>   20.4656</td> <td>    5.489</td> <td>    3.729</td> <td> 0.000</td> <td>    9.470</td> <td>   31.461</td>\n",
       "</tr>\n",
       "<tr>\n",
       "  <th>Asphalt Abrasion</th> <td>   -2.6707</td> <td>    0.836</td> <td>   -3.193</td> <td> 0.002</td> <td>   -4.346</td> <td>   -0.995</td>\n",
       "</tr>\n",
       "</table>\n",
       "<table class=\"simpletable\">\n",
       "<tr>\n",
       "  <th>Omnibus:</th>       <td>34.137</td> <th>  Durbin-Watson:     </th> <td>   1.837</td>\n",
       "</tr>\n",
       "<tr>\n",
       "  <th>Prob(Omnibus):</th> <td> 0.000</td> <th>  Jarque-Bera (JB):  </th> <td>  82.326</td>\n",
       "</tr>\n",
       "<tr>\n",
       "  <th>Skew:</th>          <td> 1.702</td> <th>  Prob(JB):          </th> <td>1.33e-18</td>\n",
       "</tr>\n",
       "<tr>\n",
       "  <th>Kurtosis:</th>      <td> 7.446</td> <th>  Cond. No.          </th> <td>    93.6</td>\n",
       "</tr>\n",
       "</table><br/><br/>Notes:<br/>[1] Standard Errors assume that the covariance matrix of the errors is correctly specified."
      ],
      "text/plain": [
       "<class 'statsmodels.iolib.summary.Summary'>\n",
       "\"\"\"\n",
       "                            OLS Regression Results                            \n",
       "==============================================================================\n",
       "Dep. Variable:                      y   R-squared:                       0.846\n",
       "Model:                            OLS   Adj. R-squared:                  0.830\n",
       "Method:                 Least Squares   F-statistic:                     51.38\n",
       "Date:                Tue, 07 Dec 2021   Prob (F-statistic):           5.34e-21\n",
       "Time:                        13:09:55   Log-Likelihood:                -190.24\n",
       "No. Observations:                  63   AIC:                             394.5\n",
       "Df Residuals:                      56   BIC:                             409.5\n",
       "Df Model:                           6                                         \n",
       "Covariance Type:            nonrobust                                         \n",
       "====================================================================================\n",
       "                       coef    std err          t      P>|t|      [0.025      0.975]\n",
       "------------------------------------------------------------------------------------\n",
       "const               18.2686      5.206      3.509      0.001       7.841      28.697\n",
       "Length (m)          11.1619      1.008     11.079      0.000       9.144      13.180\n",
       "Curva lenta          3.0060      0.349      8.605      0.000       2.306       3.706\n",
       "Curva media         -1.6756      0.586     -2.858      0.006      -2.850      -0.501\n",
       "Curva rapida         0.4821      0.405      1.190      0.239      -0.329       1.294\n",
       "log(ag)             20.4656      5.489      3.729      0.000       9.470      31.461\n",
       "Asphalt Abrasion    -2.6707      0.836     -3.193      0.002      -4.346      -0.995\n",
       "==============================================================================\n",
       "Omnibus:                       34.137   Durbin-Watson:                   1.837\n",
       "Prob(Omnibus):                  0.000   Jarque-Bera (JB):               82.326\n",
       "Skew:                           1.702   Prob(JB):                     1.33e-18\n",
       "Kurtosis:                       7.446   Cond. No.                         93.6\n",
       "==============================================================================\n",
       "\n",
       "Notes:\n",
       "[1] Standard Errors assume that the covariance matrix of the errors is correctly specified.\n",
       "\"\"\""
      ]
     },
     "execution_count": 131,
     "metadata": {},
     "output_type": "execute_result"
    }
   ],
   "source": [
    "lista = datos_f1[[ 'Length (m)',\n",
    " 'Curva lenta',\n",
    " 'Curva media',\n",
    " 'Curva rapida',\n",
    " 'log(ag)',\n",
    " 'Asphalt Abrasion']]\n",
    " \n",
    "X=lista\n",
    "X = X.astype('float64')\n",
    "y=datos_f1.values[:,0]\n",
    "y = y.astype('float64')\n",
    "#print(X)\n",
    "mco1 = sm.OLS(y, sm.add_constant(X)).fit()\n",
    "\n",
    "mco1.summary()"
   ]
  },
  {
   "cell_type": "markdown",
   "metadata": {},
   "source": [
    "## MULTICOLINEALIDAD"
   ]
  },
  {
   "cell_type": "code",
   "execution_count": 132,
   "metadata": {},
   "outputs": [
    {
     "name": "stdout",
     "output_type": "stream",
     "text": [
      "[[ 1.          0.00753052  0.13372822  0.29054151  0.39300419  0.46805826]\n",
      " [ 0.00753052  1.         -0.06111079 -0.39084757 -0.51463714 -0.12775327]\n",
      " [ 0.13372822 -0.06111079  1.         -0.24789618  0.52428264  0.22624666]\n",
      " [ 0.29054151 -0.39084757 -0.24789618  1.          0.21179694  0.17162219]\n",
      " [ 0.39300419 -0.51463714  0.52428264  0.21179694  1.          0.53153087]\n",
      " [ 0.46805826 -0.12775327  0.22624666  0.17162219  0.53153087  1.        ]]\n"
     ]
    }
   ],
   "source": [
    "#Matriz de correlacciones\n",
    "corr_matrix=np.corrcoef(X.T) #X.T = matriz X traspuesta\n",
    "print(corr_matrix)\n",
    "\n",
    "#Lo ideal es que la matriz fuese la identidad"
   ]
  },
  {
   "cell_type": "markdown",
   "metadata": {},
   "source": [
    "Como se puede observar esta matriz de correlacciones mucho mas correcta que la que teniamso en un inicio, pese a contar con algunasd variables menos."
   ]
  },
  {
   "cell_type": "code",
   "execution_count": 133,
   "metadata": {},
   "outputs": [
    {
     "data": {
      "image/png": "[encoded data removed]",
      "text/plain": [
       "<Figure size 432x288 with 2 Axes>"
      ]
     },
     "metadata": {
      "needs_background": "light"
     },
     "output_type": "display_data"
    }
   ],
   "source": [
    "import statsmodels.graphics.api as smg\n",
    "import matplotlib.pylab as plt\n",
    "smg.plot_corr(corr_matrix, xnames=lista)\n",
    "plt.show()"
   ]
  },
  {
   "cell_type": "markdown",
   "metadata": {},
   "source": [
    "En cuanto a los VIFS conseguimos que estuvieran todos por debajo de los 20, menos la primera variable que siempre era el valor mas elevado."
   ]
  },
  {
   "cell_type": "code",
   "execution_count": 134,
   "metadata": {},
   "outputs": [
    {
     "data": {
      "text/plain": [
       "[39.757141354187155,\n",
       " 8.620470265923808,\n",
       " 19.15849985003728,\n",
       " 6.3621933036693035,\n",
       " 11.974819488173427,\n",
       " 12.148521012089759]"
      ]
     },
     "execution_count": 134,
     "metadata": {},
     "output_type": "execute_result"
    }
   ],
   "source": [
    "import statsmodels.stats.outliers_influence as oi\n",
    "\n",
    "#Para la primera variable\n",
    "#1-(1-(R^2)) = 284 ; R = 0.9964\n",
    "#Se podria decir que el tamanio dle edificio lo puedo escribir en funcion de las otas 2 variables\n",
    "\n",
    "#Factor de inflacion de la varianza, con el for hacemos que salga  para toda las variables\n",
    "vifs=[oi.variance_inflation_factor(X.values, i) for i in range(X.shape[1])]\n",
    "#Hay problema de multicolinealidad, si vif es mayor que 10 y si es mayor que 20, problema grave\n",
    "#HAY MULTICOLINEALIDAD\n",
    "vifs"
   ]
  },
  {
   "cell_type": "markdown",
   "metadata": {},
   "source": [
    "## HETEROSCEDASTICIDAD"
   ]
  },
  {
   "cell_type": "markdown",
   "metadata": {},
   "source": []
  },
  {
   "cell_type": "code",
   "execution_count": 135,
   "metadata": {},
   "outputs": [
    {
     "name": "stdout",
     "output_type": "stream",
     "text": [
      "Het-Goldfelquandt (23.011712691738875, 6.401105663228656e-08, 'increasing')\n",
      "Het-Breuschpagan (7.9207085217611395, 0.24397016666882368, 1.3421852548516915, 0.25413999837706364)\n",
      "Het-Whithe (20.262182907374694, 0.4416400486222467, 0.9956190325132269, 0.48630062427057397)\n"
     ]
    }
   ],
   "source": [
    "GQ=sms.het_goldfeldquandt(mco1.model.endog, mco1.model.exog, split=3) #Split es para que se quede con una tercera parte o lo que queramos\n",
    "print('Het-Goldfelquandt', GQ)#El SPLIT 3 no se puede poner porque debe dar un valor entero. Por defecto lo hace entre 2\n",
    "#El vector te da en el 2 valor el p valor, si tu alfa es menor que el p valor significa HOMOSCEDASTICIDAD\n",
    "\n",
    "BP=sms.het_breuschpagan(mco1.resid, mco1.model.exog)\n",
    "print('Het-Breuschpagan', BP)\n",
    "#Este nos decía cuanto dependía nuestros residuos al cuadrado respecto de nuestras vbles. Sólo nos interesan los\n",
    "#dos ultimos valores que son el estadístico experimental y el p valor. Como es mayor que nuestro alfa (0.05) hay HOMOSCEDASTICIDAD\n",
    "WH=sms.het_white(mco1.resid, mco1.model.exog)\n",
    "print('Het-Whithe', WH) #Igual, nos interesan sólo los dos últimos valores y significan lo mismo que en el anterior. \n",
    "\n"
   ]
  },
  {
   "cell_type": "markdown",
   "metadata": {},
   "source": [
    "Hemos realizado los tests de Goldfeld-Quandt, Breusch-Pagan y White donde sólo el primero de estos nos indica que existe un problema de heteroscedasticidad (varianzas diferentes para cada individuo). Esto se puede deber a que el test de Goldfeld-Quandt es para muestras pequeñas y las demás para muestras grandes. \n",
    "En nuestro caso tenemos 63 muestras, algo que no podemos clasificar sin lugar a dudas como una muestra grande o como una muestra pequeña. Por ello ante la duda decidimos hacer el test de Glejser y si hay algún problema arreglarlo tal y como indique este test."
   ]
  },
  {
   "cell_type": "markdown",
   "metadata": {},
   "source": [
    "### Glejser"
   ]
  },
  {
   "cell_type": "code",
   "execution_count": 136,
   "metadata": {},
   "outputs": [
    {
     "name": "stdout",
     "output_type": "stream",
     "text": [
      "Length (m)\n",
      "Curva lenta\n",
      "Curva media\n",
      "Curva rapida\n",
      "Asphalt Grip\n",
      "Asphalt Abrasion\n",
      "La variable: Asphalt Abrasion elevado a  2  daba problema de heteroscedasticidad\n"
     ]
    },
    {
     "data": {
      "text/html": [
       "<table class=\"simpletable\">\n",
       "<caption>WLS Regression Results</caption>\n",
       "<tr>\n",
       "  <th>Dep. Variable:</th>            <td>y</td>        <th>  R-squared:         </th> <td>   0.903</td>\n",
       "</tr>\n",
       "<tr>\n",
       "  <th>Model:</th>                   <td>WLS</td>       <th>  Adj. R-squared:    </th> <td>   0.893</td>\n",
       "</tr>\n",
       "<tr>\n",
       "  <th>Method:</th>             <td>Least Squares</td>  <th>  F-statistic:       </th> <td>   87.10</td>\n",
       "</tr>\n",
       "<tr>\n",
       "  <th>Date:</th>             <td>Tue, 07 Dec 2021</td> <th>  Prob (F-statistic):</th> <td>1.43e-26</td>\n",
       "</tr>\n",
       "<tr>\n",
       "  <th>Time:</th>                 <td>13:09:57</td>     <th>  Log-Likelihood:    </th> <td> -182.14</td>\n",
       "</tr>\n",
       "<tr>\n",
       "  <th>No. Observations:</th>      <td>    63</td>      <th>  AIC:               </th> <td>   378.3</td>\n",
       "</tr>\n",
       "<tr>\n",
       "  <th>Df Residuals:</th>          <td>    56</td>      <th>  BIC:               </th> <td>   393.3</td>\n",
       "</tr>\n",
       "<tr>\n",
       "  <th>Df Model:</th>              <td>     6</td>      <th>                     </th>     <td> </td>   \n",
       "</tr>\n",
       "<tr>\n",
       "  <th>Covariance Type:</th>      <td>nonrobust</td>    <th>                     </th>     <td> </td>   \n",
       "</tr>\n",
       "</table>\n",
       "<table class=\"simpletable\">\n",
       "<tr>\n",
       "          <td></td>            <th>coef</th>     <th>std err</th>      <th>t</th>      <th>P>|t|</th>  <th>[0.025</th>    <th>0.975]</th>  \n",
       "</tr>\n",
       "<tr>\n",
       "  <th>const</th>            <td>   16.4845</td> <td>    3.938</td> <td>    4.186</td> <td> 0.000</td> <td>    8.596</td> <td>   24.373</td>\n",
       "</tr>\n",
       "<tr>\n",
       "  <th>Length (m)</th>       <td>   11.6622</td> <td>    0.775</td> <td>   15.055</td> <td> 0.000</td> <td>   10.110</td> <td>   13.214</td>\n",
       "</tr>\n",
       "<tr>\n",
       "  <th>Curva lenta</th>      <td>    2.7034</td> <td>    0.249</td> <td>   10.868</td> <td> 0.000</td> <td>    2.205</td> <td>    3.202</td>\n",
       "</tr>\n",
       "<tr>\n",
       "  <th>Curva media</th>      <td>   -1.4376</td> <td>    0.524</td> <td>   -2.742</td> <td> 0.008</td> <td>   -2.488</td> <td>   -0.387</td>\n",
       "</tr>\n",
       "<tr>\n",
       "  <th>Curva rapida</th>     <td>    0.1735</td> <td>    0.357</td> <td>    0.486</td> <td> 0.629</td> <td>   -0.541</td> <td>    0.888</td>\n",
       "</tr>\n",
       "<tr>\n",
       "  <th>log(ag)</th>          <td>   16.2781</td> <td>    5.028</td> <td>    3.238</td> <td> 0.002</td> <td>    6.206</td> <td>   26.350</td>\n",
       "</tr>\n",
       "<tr>\n",
       "  <th>Asphalt Abrasion</th> <td>   -1.8490</td> <td>    0.713</td> <td>   -2.594</td> <td> 0.012</td> <td>   -3.277</td> <td>   -0.421</td>\n",
       "</tr>\n",
       "</table>\n",
       "<table class=\"simpletable\">\n",
       "<tr>\n",
       "  <th>Omnibus:</th>       <td>34.493</td> <th>  Durbin-Watson:     </th> <td>   1.741</td>\n",
       "</tr>\n",
       "<tr>\n",
       "  <th>Prob(Omnibus):</th> <td> 0.000</td> <th>  Jarque-Bera (JB):  </th> <td>  91.498</td>\n",
       "</tr>\n",
       "<tr>\n",
       "  <th>Skew:</th>          <td> 1.659</td> <th>  Prob(JB):          </th> <td>1.35e-20</td>\n",
       "</tr>\n",
       "<tr>\n",
       "  <th>Kurtosis:</th>      <td> 7.884</td> <th>  Cond. No.          </th> <td>    100.</td>\n",
       "</tr>\n",
       "</table><br/><br/>Notes:<br/>[1] Standard Errors assume that the covariance matrix of the errors is correctly specified."
      ],
      "text/plain": [
       "<class 'statsmodels.iolib.summary.Summary'>\n",
       "\"\"\"\n",
       "                            WLS Regression Results                            \n",
       "==============================================================================\n",
       "Dep. Variable:                      y   R-squared:                       0.903\n",
       "Model:                            WLS   Adj. R-squared:                  0.893\n",
       "Method:                 Least Squares   F-statistic:                     87.10\n",
       "Date:                Tue, 07 Dec 2021   Prob (F-statistic):           1.43e-26\n",
       "Time:                        13:09:57   Log-Likelihood:                -182.14\n",
       "No. Observations:                  63   AIC:                             378.3\n",
       "Df Residuals:                      56   BIC:                             393.3\n",
       "Df Model:                           6                                         \n",
       "Covariance Type:            nonrobust                                         \n",
       "====================================================================================\n",
       "                       coef    std err          t      P>|t|      [0.025      0.975]\n",
       "------------------------------------------------------------------------------------\n",
       "const               16.4845      3.938      4.186      0.000       8.596      24.373\n",
       "Length (m)          11.6622      0.775     15.055      0.000      10.110      13.214\n",
       "Curva lenta          2.7034      0.249     10.868      0.000       2.205       3.202\n",
       "Curva media         -1.4376      0.524     -2.742      0.008      -2.488      -0.387\n",
       "Curva rapida         0.1735      0.357      0.486      0.629      -0.541       0.888\n",
       "log(ag)             16.2781      5.028      3.238      0.002       6.206      26.350\n",
       "Asphalt Abrasion    -1.8490      0.713     -2.594      0.012      -3.277      -0.421\n",
       "==============================================================================\n",
       "Omnibus:                       34.493   Durbin-Watson:                   1.741\n",
       "Prob(Omnibus):                  0.000   Jarque-Bera (JB):               91.498\n",
       "Skew:                           1.659   Prob(JB):                     1.35e-20\n",
       "Kurtosis:                       7.884   Cond. No.                         100.\n",
       "==============================================================================\n",
       "\n",
       "Notes:\n",
       "[1] Standard Errors assume that the covariance matrix of the errors is correctly specified.\n",
       "\"\"\""
      ]
     },
     "execution_count": 136,
     "metadata": {},
     "output_type": "execute_result"
    }
   ],
   "source": [
    "#Glejser se hace \"a mano\" a cada bleble\n",
    "headers = datos_f1.columns\n",
    "header_maximo=\"\"\n",
    "alpha=0.05\n",
    "h_max=0.0\n",
    "r_max=0.0\n",
    "\n",
    "elements = [ 'Length (m)',\n",
    " 'Curva lenta',\n",
    " 'Curva media',\n",
    " 'Curva rapida',\n",
    " 'Asphalt Grip',\n",
    " 'Asphalt Abrasion']\n",
    "\n",
    "for indice in elements:\n",
    "    print(indice)\n",
    "    z=datos_f1[indice]\n",
    "    z = z.astype('float64')\n",
    "    for h in [-2,-1,-0.5,0.5,1,2]:\n",
    "        mcoaux=sm.OLS(abs(mco1.resid),sm.add_constant((z**h))).fit()\n",
    "        pval=mcoaux.pvalues[1]\n",
    "        r2=mcoaux.rsquared\n",
    "        #print(\"h: \", h, \"-> pval:\", pval, \" R2: \", r2)\n",
    "        #Nos debemos quedar con todas porque el pValor es moenr que alfa, y de ellas escogemos la de R2 más grande\n",
    "        #En este caso nos da el problema el Z^2, tenemos que multiplicar mis datos (la matriz) por 1/sqrt(Z^2)\n",
    "        if((pval<alpha) and (r2>r_max)):\n",
    "            r_max=r2\n",
    "            header_max=indice\n",
    "            h_max = h\n",
    "\n",
    "print(\"La variable: \" + header_max + \" elevado a \", h_max, \" daba problema de heteroscedasticidad\")\n",
    "z = datos_f1[header_max].astype('float64')\n",
    "mcp = sm.WLS(y, sm.add_constant(X), weights=(1/np.sqrt(z**h_max))).fit() #Regresión por cuadrados ponderados\n",
    "mcp.summary()"
   ]
  },
  {
   "cell_type": "markdown",
   "metadata": {},
   "source": [
    "Tal y como está programado el test de Glejser hacemos lo siguiente: \n",
    "    En cada una de las variables comprobamos si hay relacion lineal entre los residuos del modelo inicial y la variable elevada a -2, -1, -0.5, 0,5, 1, 2. A continuación debemos comprobar si su pvalor es menor que el alfa (de forma que confirme problema de heteroscedasticidad) y que su R^2 sea el mínimo (ya que es con el que nos quedaremos).\n",
    "\n",
    "Los resultados nos indicaron que la variable Asphalt Abrasion daba problemas de heteroscedasticidad por lo que decidimos estimar el modelo a través del modelo lineal generalizado multiplicando previamente la Y y las X por 1/raiz(Asphalt Abrasion^2), solucionando así los problemas de Heteroscedasticidad."
   ]
  },
  {
   "cell_type": "markdown",
   "metadata": {},
   "source": [
    "## AUTOCORRELACIÓN"
   ]
  },
  {
   "cell_type": "code",
   "execution_count": 137,
   "metadata": {},
   "outputs": [
    {
     "name": "stdout",
     "output_type": "stream",
     "text": [
      "Durbin-Watson es  1.7773957581695305\n"
     ]
    },
    {
     "data": {
      "text/html": [
       "<table class=\"simpletable\">\n",
       "<caption>GLSAR Regression Results</caption>\n",
       "<tr>\n",
       "  <th>Dep. Variable:</th>            <td>y</td>        <th>  R-squared:         </th> <td>   0.830</td>\n",
       "</tr>\n",
       "<tr>\n",
       "  <th>Model:</th>                  <td>GLSAR</td>      <th>  Adj. R-squared:    </th> <td>   0.812</td>\n",
       "</tr>\n",
       "<tr>\n",
       "  <th>Method:</th>             <td>Least Squares</td>  <th>  F-statistic:       </th> <td>   44.86</td>\n",
       "</tr>\n",
       "<tr>\n",
       "  <th>Date:</th>             <td>Tue, 07 Dec 2021</td> <th>  Prob (F-statistic):</th> <td>1.91e-19</td>\n",
       "</tr>\n",
       "<tr>\n",
       "  <th>Time:</th>                 <td>13:09:58</td>     <th>  Log-Likelihood:    </th> <td> -187.50</td>\n",
       "</tr>\n",
       "<tr>\n",
       "  <th>No. Observations:</th>      <td>    62</td>      <th>  AIC:               </th> <td>   389.0</td>\n",
       "</tr>\n",
       "<tr>\n",
       "  <th>Df Residuals:</th>          <td>    55</td>      <th>  BIC:               </th> <td>   403.9</td>\n",
       "</tr>\n",
       "<tr>\n",
       "  <th>Df Model:</th>              <td>     6</td>      <th>                     </th>     <td> </td>   \n",
       "</tr>\n",
       "<tr>\n",
       "  <th>Covariance Type:</th>      <td>nonrobust</td>    <th>                     </th>     <td> </td>   \n",
       "</tr>\n",
       "</table>\n",
       "<table class=\"simpletable\">\n",
       "<tr>\n",
       "          <td></td>            <th>coef</th>     <th>std err</th>      <th>t</th>      <th>P>|t|</th>  <th>[0.025</th>    <th>0.975]</th>  \n",
       "</tr>\n",
       "<tr>\n",
       "  <th>const</th>            <td>   19.1864</td> <td>    5.580</td> <td>    3.439</td> <td> 0.001</td> <td>    8.004</td> <td>   30.368</td>\n",
       "</tr>\n",
       "<tr>\n",
       "  <th>Length (m)</th>       <td>   11.1080</td> <td>    1.079</td> <td>   10.293</td> <td> 0.000</td> <td>    8.945</td> <td>   13.271</td>\n",
       "</tr>\n",
       "<tr>\n",
       "  <th>Curva lenta</th>      <td>    2.9637</td> <td>    0.372</td> <td>    7.968</td> <td> 0.000</td> <td>    2.218</td> <td>    3.709</td>\n",
       "</tr>\n",
       "<tr>\n",
       "  <th>Curva media</th>      <td>   -1.6974</td> <td>    0.637</td> <td>   -2.663</td> <td> 0.010</td> <td>   -2.975</td> <td>   -0.420</td>\n",
       "</tr>\n",
       "<tr>\n",
       "  <th>Curva rapida</th>     <td>    0.4361</td> <td>    0.434</td> <td>    1.005</td> <td> 0.319</td> <td>   -0.433</td> <td>    1.306</td>\n",
       "</tr>\n",
       "<tr>\n",
       "  <th>log(ag)</th>          <td>   20.1254</td> <td>    6.244</td> <td>    3.223</td> <td> 0.002</td> <td>    7.613</td> <td>   32.638</td>\n",
       "</tr>\n",
       "<tr>\n",
       "  <th>Asphalt Abrasion</th> <td>   -2.6761</td> <td>    0.919</td> <td>   -2.913</td> <td> 0.005</td> <td>   -4.517</td> <td>   -0.835</td>\n",
       "</tr>\n",
       "</table>\n",
       "<table class=\"simpletable\">\n",
       "<tr>\n",
       "  <th>Omnibus:</th>       <td>36.121</td> <th>  Durbin-Watson:     </th> <td>   2.009</td>\n",
       "</tr>\n",
       "<tr>\n",
       "  <th>Prob(Omnibus):</th> <td> 0.000</td> <th>  Jarque-Bera (JB):  </th> <td>  91.526</td>\n",
       "</tr>\n",
       "<tr>\n",
       "  <th>Skew:</th>          <td> 1.808</td> <th>  Prob(JB):          </th> <td>1.33e-20</td>\n",
       "</tr>\n",
       "<tr>\n",
       "  <th>Kurtosis:</th>      <td> 7.728</td> <th>  Cond. No.          </th> <td>    94.4</td>\n",
       "</tr>\n",
       "</table><br/><br/>Notes:<br/>[1] Standard Errors assume that the covariance matrix of the errors is correctly specified."
      ],
      "text/plain": [
       "<class 'statsmodels.iolib.summary.Summary'>\n",
       "\"\"\"\n",
       "                           GLSAR Regression Results                           \n",
       "==============================================================================\n",
       "Dep. Variable:                      y   R-squared:                       0.830\n",
       "Model:                          GLSAR   Adj. R-squared:                  0.812\n",
       "Method:                 Least Squares   F-statistic:                     44.86\n",
       "Date:                Tue, 07 Dec 2021   Prob (F-statistic):           1.91e-19\n",
       "Time:                        13:09:58   Log-Likelihood:                -187.50\n",
       "No. Observations:                  62   AIC:                             389.0\n",
       "Df Residuals:                      55   BIC:                             403.9\n",
       "Df Model:                           6                                         \n",
       "Covariance Type:            nonrobust                                         \n",
       "====================================================================================\n",
       "                       coef    std err          t      P>|t|      [0.025      0.975]\n",
       "------------------------------------------------------------------------------------\n",
       "const               19.1864      5.580      3.439      0.001       8.004      30.368\n",
       "Length (m)          11.1080      1.079     10.293      0.000       8.945      13.271\n",
       "Curva lenta          2.9637      0.372      7.968      0.000       2.218       3.709\n",
       "Curva media         -1.6974      0.637     -2.663      0.010      -2.975      -0.420\n",
       "Curva rapida         0.4361      0.434      1.005      0.319      -0.433       1.306\n",
       "log(ag)             20.1254      6.244      3.223      0.002       7.613      32.638\n",
       "Asphalt Abrasion    -2.6761      0.919     -2.913      0.005      -4.517      -0.835\n",
       "==============================================================================\n",
       "Omnibus:                       36.121   Durbin-Watson:                   2.009\n",
       "Prob(Omnibus):                  0.000   Jarque-Bera (JB):               91.526\n",
       "Skew:                           1.808   Prob(JB):                     1.33e-20\n",
       "Kurtosis:                       7.728   Cond. No.                         94.4\n",
       "==============================================================================\n",
       "\n",
       "Notes:\n",
       "[1] Standard Errors assume that the covariance matrix of the errors is correctly specified.\n",
       "\"\"\""
      ]
     },
     "execution_count": 137,
     "metadata": {},
     "output_type": "execute_result"
    }
   ],
   "source": [
    "from statsmodels.stats.stattools import durbin_watson\n",
    "dw=durbin_watson(mcp.resid)\n",
    "print(\"Durbin-Watson es \", dw)\n",
    "rho= 1 - dw/2\n",
    "\n",
    "\n",
    "mco_autocorr=sm.GLSAR(y, sm.add_constant(X), rho=rho) #Es para aplicar el algoritmo Lochrane-Orcutt o Praiss-Wistein \n",
    "#Y así resolver la autocorrelación. Para a la iteración 1000 y lo hace hasta que la diferencia entre rhos sea 10^-10\n",
    "#mco_autocorr.summary()\n",
    "res=mco_autocorr.iterative_fit(maxiter=100 , rtol=10**(-10))\n",
    "res.summary()"
   ]
  },
  {
   "cell_type": "markdown",
   "metadata": {},
   "source": [
    "Observamos que en el test de Durbin-Watson nos da un número de 1,777 siendo el teórico de apróximadamente (suponemos 65 muestras) dL=1.438 du= 1.767 por lo que está dentro del intervalo  1.767 < 1.777 < (4-1.767)= 2.233. \n",
    "\n",
    "Como está dentro por un margen bastante pequeño (de 0.01) decidimos aplicar Praiss-Wistein aunque no era totalmente necesario."
   ]
  },
  {
   "cell_type": "markdown",
   "metadata": {},
   "source": [
    "## LINEALIDAD"
   ]
  },
  {
   "cell_type": "markdown",
   "metadata": {},
   "source": [
    "## Test Harvey-Collier"
   ]
  },
  {
   "cell_type": "markdown",
   "metadata": {},
   "source": [
    "El primer bloque de codigo data de arreglar un problema que teniamos al intentar hacer el test de hervey_collier, ya que nos daba error en el skip a la hora de calcularlo, despues de varias horas para solucionarlo encontramos por internet esa forma de solucionarlo para un skip lo suficientemente grande como para que no diera error, le porblema es que para el mismo skip en el test (segundo bloque) nos indicaba NotANumber y con el primer bloque de codigo lo arreglamos.\n",
    "\n",
    "Donde nos sale un pvalor = 0.03974662381399955, por lo que rechazamos H0 e indicamos que rechazamos hipotesis de linealidad."
   ]
  },
  {
   "cell_type": "code",
   "execution_count": 138,
   "metadata": {},
   "outputs": [
    {
     "data": {
      "text/plain": [
       "Ttest_1sampResult(statistic=2.120781684298368, pvalue=0.03974662381399955)"
      ]
     },
     "execution_count": 138,
     "metadata": {},
     "output_type": "execute_result"
    }
   ],
   "source": [
    "from scipy import stats\n",
    "skip = 19 #len(res.params)  # bug in linear_harvey_collier\n",
    "rr = sms.recursive_olsresiduals(res, skip=skip, alpha=0.95, order_by=None)\n",
    "stats.ttest_1samp(rr[3][skip:], 0)"
   ]
  },
  {
   "cell_type": "code",
   "execution_count": 139,
   "metadata": {},
   "outputs": [
    {
     "data": {
      "text/plain": [
       "Ttest_1sampResult(statistic=nan, pvalue=nan)"
      ]
     },
     "execution_count": 139,
     "metadata": {},
     "output_type": "execute_result"
    }
   ],
   "source": [
    "import statsmodels.stats.diagnostic as diagn #Para el test de Harvey-Collier\n",
    "\n",
    "diagn.linear_harvey_collier(res, skip=19) # si nuestro alpha es menor que el p valor, hay linelidad, no se rechaza hipotesis nula"
   ]
  },
  {
   "cell_type": "markdown",
   "metadata": {},
   "source": [
    "# Normalidad de los residuos"
   ]
  },
  {
   "cell_type": "markdown",
   "metadata": {},
   "source": [
    "- Jarque-Bera: Test de hipótesis que contrasta si los datos de la muestra tienen el coeficiente de simetría y la curtósis de una distribución normal.\n",
    "- $\\chi^2$ (p-valor): p-valor del Test de Jaque-Bera.\n",
    "- Skew: Coeficiente de Simetría de pearson de los residuos.\n",
    "- Kurtosis: Coeficiente de apuntamiento de los residuos.\n",
    "- Komogorov-Smirnov: Test de Hipótesis para contrastar si una muestra proviene de una distribución (en este caso normal)."
   ]
  },
  {
   "cell_type": "code",
   "execution_count": 140,
   "metadata": {},
   "outputs": [
    {
     "name": "stdout",
     "output_type": "stream",
     "text": [
      "Jarque-Bera 85.75954281903263\n",
      "Chi^2 two-tail prob. 2.3853487912789215e-19\n",
      "Skew 1.7338692368112252\n",
      "Kurtosis 7.543687038612671\n"
     ]
    }
   ],
   "source": [
    "import statsmodels.stats.api as sms\n",
    "name = ['Jarque-Bera', 'Chi^2 two-tail prob.', 'Skew', 'Kurtosis']\n",
    "test = sms.jarque_bera(res.resid)\n",
    "for i in range(4):\n",
    "    print(name[i], test[i]) # para rechazar hipotesis nula de normalidad, tine que ser el pvlor mas cihco que 0.05 nuestro alpha\n",
    "                            # para que sea simetrica tiene que ser 0 la skew\n",
    "                            # para que la kurtosis sea normal tiene que ser de 4, es de 6 a asi que bueno"
   ]
  },
  {
   "cell_type": "code",
   "execution_count": 141,
   "metadata": {},
   "outputs": [
    {
     "data": {
      "image/png": "[encoded data removed]",
      "text/plain": [
       "<Figure size 432x288 with 1 Axes>"
      ]
     },
     "metadata": {
      "needs_background": "light"
     },
     "output_type": "display_data"
    },
    {
     "data": {
      "image/png": "[encoded data removed]",
      "text/plain": [
       "<Figure size 432x288 with 1 Axes>"
      ]
     },
     "metadata": {
      "needs_background": "light"
     },
     "output_type": "display_data"
    }
   ],
   "source": [
    "from matplotlib import pyplot\n",
    "from statsmodels.graphics.gofplots import qqplot\n",
    "\n",
    "pyplot.hist(res.resid)\n",
    "pyplot.show()\n",
    "qqplot(res.resid, line='s')\n",
    "pyplot.show()  # si los datos fueran normales estarian encima de mi linea roja, a si que no esta mal del todo"
   ]
  },
  {
   "cell_type": "markdown",
   "metadata": {},
   "source": [
    "En cuanto a la normalidad de los residuos, podemos observar en la primera grafica como se semeja vagamente a una distribucion normal y en cuanto a la segunda grafica como la la mayoria de valores se encuentran por debajo de la linea roja.\n",
    "\n",
    "Con tod esto se puede suponer lo que demuestra justo debajo el test de Kurtosis, rechazamos hipotesis nula de normalidad de los residuos."
   ]
  },
  {
   "cell_type": "code",
   "execution_count": 142,
   "metadata": {},
   "outputs": [
    {
     "data": {
      "text/plain": [
       "(0.16900545252599075, 0.0009999999999998899)"
      ]
     },
     "execution_count": 142,
     "metadata": {},
     "output_type": "execute_result"
    }
   ],
   "source": [
    "import statsmodels.stats.diagnostic as diag\n",
    "\n",
    "diag.kstest_normal(res.resid)"
   ]
  }
 ],
 "metadata": {
  "interpreter": {
   "hash": "45beaf1bbaf1f4539db6cc65708e9bc09be995c5454858dbd2322c7e6d854a88"
  },
  "kernelspec": {
   "display_name": "Python 3",
   "language": "python",
   "name": "python3"
  },
  "language_info": {
   "codemirror_mode": {
    "name": "ipython",
    "version": 3
   },
   "file_extension": ".py",
   "mimetype": "text/x-python",
   "name": "python",
   "nbconvert_exporter": "python",
   "pygments_lexer": "ipython3",
   "version": "3.8.8"
  }
 },
 "nbformat": 4,
 "nbformat_minor": 2
}
