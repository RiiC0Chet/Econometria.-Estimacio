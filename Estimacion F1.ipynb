{
 "cells": [
  {
   "cell_type": "markdown",
   "metadata": {},
   "source": [
    "# Estimacion tiempo por vuelta de clasificación F1\n",
    "\n",
    "## Descripción del modelo y de sus variables\n",
    "\n",
    "Todos los datos recogidos son de las vueltas de clasificación de Q3 de las temporadas 2017, 2018 y 2019 del piloto de Fórmula 1 Max Verstappen del equipo Red Bull. Estos han sido recolectados por nosotros de varias fuentes. Primero recolectamos los datos de todas las vueltas de clasificación en las 3 temporadas para cada uno de los circuitos. Los datos sobre asphalt abrasion, grip y demás los obtuvimos de los datos de Pirelli para cada carrera en cada una de las temporadas; aunque por lo general no cambiaran. Para los datos de las curvas se analizó la telemetría de cada una de las vueltas de clasificación analizando cómo se hacían las curvas y utilizamos los criterios que más tarde explicamos.\n",
    "\n",
    "Decidimos escoger a este piloto ya que era de los pocos pilotos que no habían cambiado de equipo recientemente para la temporada 2017 y no cambian de equipo desde entonces. Esto es importante debido a que así eliminamos la variación propia de conducir un coche que sea de otro equipo y las variaciones que esto conlleva.\n",
    "\n",
    "Por ello este modelo sólo debe ser considerado para este piloto y este equipo, no como algo general.\n",
    "\n",
    "### Variables finalmente empleadas\n",
    "\n",
    "Hemos utilizado las siguientes variables para la construcción del modelo:\n",
    "\n",
    "- **Longitud (Length)**: Longitud del circuito en metros.\n",
    "- **Curvas Lentas**: Número de curvas lentas en el circuito. Consideramos que una curva es lenta si el piloto la toma de 1ª a 3ª marcha ya menos de 100 km/h.\n",
    "- **Curva Media**: Número de curvas de media velocidad en el circuito. Consideramos una curva de media velocidad si se toma de 4ª a 5ª e incluso 6ª si la velocidad es menor a 170km/h.\n",
    "- **Curva Rápida**: Número de curvas rápidas en el circuito. Consideramos una curva rápida si se va a más de 170 km/h y la marcha utilizada es 6ª o mayor. Es importante resaltar que consideraremos que una curva es rápida si previamente hay que bajar marcha,frenar o impide ganar velocidad pese a estar acelerando. Este detalle hace que muchas \"curvas\" en los circuitos no las consideremos como tal ya que un monoplaza de estas características es capaz de tomarlas a fondo, por lo que las consideramos una recta. Esto hace que no coincidan el número total de curvas con el que se suele especificar en los mapas de los circuitos. Por ejemplo el circuito de Spielberg (Austria) se supone que tiene 10 curvas cuando para el modelo constan sólo 6.\n",
    "- **Asphalt Grip**: Esta puntuación la tomamos de las oficiales que da Pirelli, el suministrador de neumáticos de la Fórmula 1. Se numera de 1 a 5 el como se agarra la rueda al asfalto. A mayor grip la rueda se agarrará más y como consecuencia de ello es más fácil tomar la curva. \n",
    "- **Asphalt Abrasion**: Esta puntuación también la publica Pirelli. Numera del 1 al 5 la capacidad de desgaste de las ruedas del asfalto. Si el asfalto es muy abrasivo puede hacer que las ruedas se sobrecalienten y hacer que el piloto no pueda tomar todas las curvas todo lo rápido que el quisiera.\n"
   ]
  },
  {
   "cell_type": "markdown",
   "metadata": {},
   "source": [
    "## Primera aproximación\n",
    "\n",
    "En un principio teníamos un único fichero Excel en el que recopilamos todos los datos iniciales de panel con los que íbamos a trabajar, pero al intentar cargar la base de datos nos daba fallos relacionados con el propio Excel y con el hecho de que fueran de panel. Por ello lo que lo primero que hicimos fue cambiar el formato de la base de datos a csv y cambiar la forma de importar los datos al  programa. Luego surgieron otros problemas con la forma de acceder a los datos, ya que Excel no exportó la base de datos con el formato de csv que la función utilizaba. Al final arreglamos el fichero csv para no tener que utilizar separadores alternativos.\n",
    "\n",
    "En un principio los datos eran importados en formato String (debido a usar ',' como separador en vez de '.', así no los reconocía como número) por lo que no podía hacer cálculos con estos y daba error, lo que solucionamos rápidamente transformandolos de string a float con la llamada a `X.astype('float64')`.\n",
    "\n",
    "Cuando empezamos a estimar el modelo nos dimos cuenta de los distintos problemas que podiamos tener, como era el de una multicolinealidad muy fuerte entre distintas variables de nuestra base de datos. Así que empezamos a calcular los VIFS, la matriz de correlaccion, etc.\n",
    "\n",
    "Debido a todos estos problemas que iba sufriendo nuestro modelo, probamos con hacer modificaciones en las variables. Intentamos transformar algunas de ellas en log(), ir proponiendo nuevos modelos usando algunas variables y otras no, etc. Para intentar reducir la multicolinealidad, comprobamos durante 2 semanas distintos conjuntos de datos, hasta que nos dimos cuenta que el principal problema era la variable presupuesto, pese a ser la única que no tenía ninguna relación aparente con el resto. Eliminando esta variable obtuvimos el modelo que utilizaríamos finalmente. Todos estos cambios fueron los que generaron todos los archivos excel y csv que tenemos en la carpeta datos."
   ]
  },
  {
   "cell_type": "markdown",
   "metadata": {},
   "source": [
    "**Lista de variables**\n"
   ]
  },
  {
   "cell_type": "code",
   "execution_count": 1,
   "metadata": {},
   "outputs": [
    {
     "data": {
      "text/plain": [
       "['Tiempo Qualy (milisegundos)',\n",
       " 'Length (m)',\n",
       " 'Curva lenta',\n",
       " 'Curva media',\n",
       " 'Curva rapida',\n",
       " 'Presupuesto (mill. Euros)',\n",
       " 'Asphalt Abrasion',\n",
       " 'log(aa)',\n",
       " 'log(cl)',\n",
       " 'log(cm)',\n",
       " 'log(cr)',\n",
       " 'log(ag)',\n",
       " 'A�o',\n",
       " 'Race',\n",
       " 'procentaje de tiempo con el acelerador a fondo',\n",
       " 'porcentaje de tiempo de frenada',\n",
       " 'Downforce',\n",
       " 'Tyre Stress',\n",
       " 'Lateral energy',\n",
       " 'Asphalt Grip']"
      ]
     },
     "execution_count": 1,
     "metadata": {},
     "output_type": "execute_result"
    }
   ],
   "source": [
    "import statsmodels.api as sm\n",
    "import pandas as pd \n",
    "import statsmodels.stats.api as sms\n",
    "from statsmodels.compat import lzip\n",
    "import numpy as np\n",
    "\n",
    "datos_f1=pd.read_csv('datos/Datos F1_noMulti.csv', header=0)\n",
    "list(datos_f1.columns)"
   ]
  },
  {
   "cell_type": "markdown",
   "metadata": {},
   "source": [
    "Esta es nuestra primera aproximación al modelo en la que empleamos todas las variables medidas. Como podemos observar en los datos que nos ofrece el modelo OLS tenemos varias variables con significación individual lo cual también conlleva la significación global, es decir, que la estimación de estas variables no está en un intervalo en el que esté comprendido el 0. Esto se comprueba con que el pvalor es menor que nuestro alfa (0,05).\n",
    "Sin embargo, si atendemos al número condición con el que determinaremos si hay multicolinealidad, es de 1.42e+08 cuando para ser aceptable en este caso ha de ser menor de 400 y siendo muy preocupante si es mayor de 900. Para tener en cuenta otro criterio calculamos el factor de inflación de la varianza (VIF) y tras esto decidimos establecer otro modelo que fuese capaz de solucionar este problema.\n",
    "\n",
    "**Construcción del modelo**\n"
   ]
  },
  {
   "cell_type": "code",
   "execution_count": 2,
   "metadata": {},
   "outputs": [
    {
     "data": {
      "text/html": [
       "<table class=\"simpletable\">\n",
       "<caption>OLS Regression Results</caption>\n",
       "<tr>\n",
       "  <th>Dep. Variable:</th>            <td>y</td>        <th>  R-squared:         </th> <td>   0.872</td>\n",
       "</tr>\n",
       "<tr>\n",
       "  <th>Model:</th>                   <td>OLS</td>       <th>  Adj. R-squared:    </th> <td>   0.839</td>\n",
       "</tr>\n",
       "<tr>\n",
       "  <th>Method:</th>             <td>Least Squares</td>  <th>  F-statistic:       </th> <td>   25.77</td>\n",
       "</tr>\n",
       "<tr>\n",
       "  <th>Date:</th>             <td>Fri, 10 Dec 2021</td> <th>  Prob (F-statistic):</th> <td>1.80e-17</td>\n",
       "</tr>\n",
       "<tr>\n",
       "  <th>Time:</th>                 <td>16:32:04</td>     <th>  Log-Likelihood:    </th> <td> -184.37</td>\n",
       "</tr>\n",
       "<tr>\n",
       "  <th>No. Observations:</th>      <td>    63</td>      <th>  AIC:               </th> <td>   396.7</td>\n",
       "</tr>\n",
       "<tr>\n",
       "  <th>Df Residuals:</th>          <td>    49</td>      <th>  BIC:               </th> <td>   426.7</td>\n",
       "</tr>\n",
       "<tr>\n",
       "  <th>Df Model:</th>              <td>    13</td>      <th>                     </th>     <td> </td>   \n",
       "</tr>\n",
       "<tr>\n",
       "  <th>Covariance Type:</th>      <td>nonrobust</td>    <th>                     </th>     <td> </td>   \n",
       "</tr>\n",
       "</table>\n",
       "<table class=\"simpletable\">\n",
       "<tr>\n",
       "                         <td></td>                           <th>coef</th>     <th>std err</th>      <th>t</th>      <th>P>|t|</th>  <th>[0.025</th>    <th>0.975]</th>  \n",
       "</tr>\n",
       "<tr>\n",
       "  <th>const</th>                                          <td>-3.809e+04</td> <td> 4.47e+04</td> <td>   -0.852</td> <td> 0.398</td> <td>-1.28e+05</td> <td> 5.17e+04</td>\n",
       "</tr>\n",
       "<tr>\n",
       "  <th>Length (m)</th>                                     <td>   11.4177</td> <td>    1.921</td> <td>    5.942</td> <td> 0.000</td> <td>    7.556</td> <td>   15.279</td>\n",
       "</tr>\n",
       "<tr>\n",
       "  <th>Curva lenta</th>                                    <td>    2.9419</td> <td>    0.518</td> <td>    5.683</td> <td> 0.000</td> <td>    1.902</td> <td>    3.982</td>\n",
       "</tr>\n",
       "<tr>\n",
       "  <th>Curva media</th>                                    <td>   -2.1852</td> <td>    0.795</td> <td>   -2.748</td> <td> 0.008</td> <td>   -3.783</td> <td>   -0.587</td>\n",
       "</tr>\n",
       "<tr>\n",
       "  <th>Curva rapida</th>                                   <td>    0.7530</td> <td>    0.503</td> <td>    1.498</td> <td> 0.141</td> <td>   -0.257</td> <td>    1.763</td>\n",
       "</tr>\n",
       "<tr>\n",
       "  <th>Presupuesto (mill. Euros)</th>                      <td>    0.2370</td> <td>    0.261</td> <td>    0.909</td> <td> 0.368</td> <td>   -0.287</td> <td>    0.761</td>\n",
       "</tr>\n",
       "<tr>\n",
       "  <th>Asphalt Abrasion</th>                               <td>   -3.0421</td> <td>    0.955</td> <td>   -3.185</td> <td> 0.003</td> <td>   -4.961</td> <td>   -1.123</td>\n",
       "</tr>\n",
       "<tr>\n",
       "  <th>A�o</th>                                            <td>   18.8477</td> <td>   22.105</td> <td>    0.853</td> <td> 0.398</td> <td>  -25.574</td> <td>   63.269</td>\n",
       "</tr>\n",
       "<tr>\n",
       "  <th>procentaje de tiempo con el acelerador a fondo</th> <td>   -0.0915</td> <td>    0.061</td> <td>   -1.505</td> <td> 0.139</td> <td>   -0.214</td> <td>    0.031</td>\n",
       "</tr>\n",
       "<tr>\n",
       "  <th>porcentaje de tiempo de frenada</th>                <td>   -0.1015</td> <td>    0.334</td> <td>   -0.304</td> <td> 0.762</td> <td>   -0.773</td> <td>    0.570</td>\n",
       "</tr>\n",
       "<tr>\n",
       "  <th>Downforce</th>                                      <td>   -0.3179</td> <td>    1.367</td> <td>   -0.233</td> <td> 0.817</td> <td>   -3.065</td> <td>    2.429</td>\n",
       "</tr>\n",
       "<tr>\n",
       "  <th>Tyre Stress</th>                                    <td>   -1.4723</td> <td>    1.209</td> <td>   -1.218</td> <td> 0.229</td> <td>   -3.902</td> <td>    0.957</td>\n",
       "</tr>\n",
       "<tr>\n",
       "  <th>Lateral energy</th>                                 <td>    1.3061</td> <td>    1.324</td> <td>    0.987</td> <td> 0.329</td> <td>   -1.354</td> <td>    3.967</td>\n",
       "</tr>\n",
       "<tr>\n",
       "  <th>Asphalt Grip</th>                                   <td>    4.1089</td> <td>    1.569</td> <td>    2.619</td> <td> 0.012</td> <td>    0.957</td> <td>    7.261</td>\n",
       "</tr>\n",
       "</table>\n",
       "<table class=\"simpletable\">\n",
       "<tr>\n",
       "  <th>Omnibus:</th>       <td>33.520</td> <th>  Durbin-Watson:     </th> <td>   2.013</td>\n",
       "</tr>\n",
       "<tr>\n",
       "  <th>Prob(Omnibus):</th> <td> 0.000</td> <th>  Jarque-Bera (JB):  </th> <td>  74.034</td>\n",
       "</tr>\n",
       "<tr>\n",
       "  <th>Skew:</th>          <td> 1.730</td> <th>  Prob(JB):          </th> <td>8.39e-17</td>\n",
       "</tr>\n",
       "<tr>\n",
       "  <th>Kurtosis:</th>      <td> 7.029</td> <th>  Cond. No.          </th> <td>1.42e+08</td>\n",
       "</tr>\n",
       "</table><br/><br/>Notes:<br/>[1] Standard Errors assume that the covariance matrix of the errors is correctly specified.<br/>[2] The condition number is large, 1.42e+08. This might indicate that there are<br/>strong multicollinearity or other numerical problems."
      ],
      "text/plain": [
       "<class 'statsmodels.iolib.summary.Summary'>\n",
       "\"\"\"\n",
       "                            OLS Regression Results                            \n",
       "==============================================================================\n",
       "Dep. Variable:                      y   R-squared:                       0.872\n",
       "Model:                            OLS   Adj. R-squared:                  0.839\n",
       "Method:                 Least Squares   F-statistic:                     25.77\n",
       "Date:                Fri, 10 Dec 2021   Prob (F-statistic):           1.80e-17\n",
       "Time:                        16:32:04   Log-Likelihood:                -184.37\n",
       "No. Observations:                  63   AIC:                             396.7\n",
       "Df Residuals:                      49   BIC:                             426.7\n",
       "Df Model:                          13                                         \n",
       "Covariance Type:            nonrobust                                         \n",
       "==================================================================================================================\n",
       "                                                     coef    std err          t      P>|t|      [0.025      0.975]\n",
       "------------------------------------------------------------------------------------------------------------------\n",
       "const                                          -3.809e+04   4.47e+04     -0.852      0.398   -1.28e+05    5.17e+04\n",
       "Length (m)                                        11.4177      1.921      5.942      0.000       7.556      15.279\n",
       "Curva lenta                                        2.9419      0.518      5.683      0.000       1.902       3.982\n",
       "Curva media                                       -2.1852      0.795     -2.748      0.008      -3.783      -0.587\n",
       "Curva rapida                                       0.7530      0.503      1.498      0.141      -0.257       1.763\n",
       "Presupuesto (mill. Euros)                          0.2370      0.261      0.909      0.368      -0.287       0.761\n",
       "Asphalt Abrasion                                  -3.0421      0.955     -3.185      0.003      -4.961      -1.123\n",
       "A�o                                               18.8477     22.105      0.853      0.398     -25.574      63.269\n",
       "procentaje de tiempo con el acelerador a fondo    -0.0915      0.061     -1.505      0.139      -0.214       0.031\n",
       "porcentaje de tiempo de frenada                   -0.1015      0.334     -0.304      0.762      -0.773       0.570\n",
       "Downforce                                         -0.3179      1.367     -0.233      0.817      -3.065       2.429\n",
       "Tyre Stress                                       -1.4723      1.209     -1.218      0.229      -3.902       0.957\n",
       "Lateral energy                                     1.3061      1.324      0.987      0.329      -1.354       3.967\n",
       "Asphalt Grip                                       4.1089      1.569      2.619      0.012       0.957       7.261\n",
       "==============================================================================\n",
       "Omnibus:                       33.520   Durbin-Watson:                   2.013\n",
       "Prob(Omnibus):                  0.000   Jarque-Bera (JB):               74.034\n",
       "Skew:                           1.730   Prob(JB):                     8.39e-17\n",
       "Kurtosis:                       7.029   Cond. No.                     1.42e+08\n",
       "==============================================================================\n",
       "\n",
       "Notes:\n",
       "[1] Standard Errors assume that the covariance matrix of the errors is correctly specified.\n",
       "[2] The condition number is large, 1.42e+08. This might indicate that there are\n",
       "strong multicollinearity or other numerical problems.\n",
       "\"\"\""
      ]
     },
     "execution_count": 2,
     "metadata": {},
     "output_type": "execute_result"
    }
   ],
   "source": [
    "lista = datos_f1[['Length (m)',\n",
    " 'Curva lenta',\n",
    " 'Curva media',\n",
    " 'Curva rapida',\n",
    " 'Presupuesto (mill. Euros)',\n",
    " 'Asphalt Abrasion',\n",
    " 'A�o',\n",
    " 'procentaje de tiempo con el acelerador a fondo',\n",
    " 'porcentaje de tiempo de frenada',\n",
    " 'Downforce',\n",
    " 'Tyre Stress',\n",
    " 'Lateral energy',\n",
    " 'Asphalt Grip']]\n",
    " \n",
    "X=lista\n",
    "X = X.astype('float64')\n",
    "y=datos_f1.values[:,0]\n",
    "y = y.astype('float64')\n",
    "mco2 = sm.OLS(y, sm.add_constant(X)).fit()\n",
    "\n",
    "mco2.summary()"
   ]
  },
  {
   "cell_type": "markdown",
   "metadata": {},
   "source": [
    "**Comprobación de los VIF**\n",
    "\n",
    "Un VIF es un problema si es mayor que 10 y en nuestra primera aproximación tenemos variables con VIF que llegan a 500, lo que secunda nuestra hipótesis de que la multicolinealidad era un problema serio de nuestro primer modelo."
   ]
  },
  {
   "cell_type": "code",
   "execution_count": 3,
   "metadata": {},
   "outputs": [
    {
     "data": {
      "text/plain": [
       "[243.79488635679184,\n",
       " 20.450121603310286,\n",
       " 50.59305334128654,\n",
       " 11.277173922585359,\n",
       " 25.93873672686255,\n",
       " 16.69933010291783,\n",
       " 528.0823516925276,\n",
       " 29.82501279631423,\n",
       " 56.16070940892564,\n",
       " 50.684848326650645,\n",
       " 37.961666726387165,\n",
       " 47.731304211696745,\n",
       " 47.58616355014205]"
      ]
     },
     "execution_count": 3,
     "metadata": {},
     "output_type": "execute_result"
    }
   ],
   "source": [
    "import statsmodels.stats.outliers_influence as oi\n",
    "# Factor de inflacion de la varianza, con el for hacemos que salga  para toda las variables\n",
    "vifs=[oi.variance_inflation_factor(X.values, i) for i in range(X.shape[1])]\n",
    "vifs"
   ]
  },
  {
   "cell_type": "markdown",
   "metadata": {},
   "source": [
    "**Matriz de correlación**\n",
    "\n",
    "Para poder ver de una forma mas fácil imprimiamos cada vez que hacíamos un cambio en la estimación imprimiamos la matriz de correlaciones entre las variables, para así poder ir cambiando el modelo en función de eso.\n",
    "\n",
    "Cuando veíamos que una variable tenía una relacion muy directa con otra probabamos antes de quitarla del modelo a aplicarle el logaritmo para ver si así reducía la multicolinealidad, aunque esta solución pocas veces era efectiva probamos con bastantes variables para así solo eliminarlas en caso de haber descartado el resto de opciones."
   ]
  },
  {
   "cell_type": "code",
   "execution_count": 4,
   "metadata": {},
   "outputs": [
    {
     "data": {
      "image/png": "[encoded data removed]",
      "text/plain": [
       "<Figure size 432x288 with 2 Axes>"
      ]
     },
     "metadata": {
      "needs_background": "light"
     },
     "output_type": "display_data"
    }
   ],
   "source": [
    "corr_matrix=np.corrcoef(X.T)\n",
    "\n",
    "import statsmodels.graphics.api as smg\n",
    "import matplotlib.pylab as plt\n",
    "\n",
    "smg.plot_corr(corr_matrix, xnames=['Length (m)',\n",
    " 'Curva lenta',\n",
    " 'Curva media',\n",
    " 'Curva rapida',\n",
    " 'Presupuesto (mill. Euros)',\n",
    " 'Asphalt Abrasion',\n",
    " 'A�o',\n",
    " 'procentaje de tiempo con el acelerador a fondo',\n",
    " 'porcentaje de tiempo de frenada',\n",
    " 'Downforce',\n",
    " 'Tyre Stress',\n",
    " 'Lateral energy',\n",
    " 'Asphalt Grip'])\n",
    "plt.show()"
   ]
  },
  {
   "cell_type": "markdown",
   "metadata": {},
   "source": [
    "## Modelo final\n",
    "\n",
    "Basándonos en los VIF del anterior modelo fuimos eliminando variables según los nuevos resultados de VIF que obtuviesemos, hasta alcanzar un número condición lo suficientemente bajo sin sufrir penalizaciones en nuestro $R^2$."
   ]
  },
  {
   "cell_type": "code",
   "execution_count": 5,
   "metadata": {},
   "outputs": [
    {
     "data": {
      "text/html": [
       "<table class=\"simpletable\">\n",
       "<caption>OLS Regression Results</caption>\n",
       "<tr>\n",
       "  <th>Dep. Variable:</th>            <td>y</td>        <th>  R-squared:         </th> <td>   0.850</td>\n",
       "</tr>\n",
       "<tr>\n",
       "  <th>Model:</th>                   <td>OLS</td>       <th>  Adj. R-squared:    </th> <td>   0.834</td>\n",
       "</tr>\n",
       "<tr>\n",
       "  <th>Method:</th>             <td>Least Squares</td>  <th>  F-statistic:       </th> <td>   52.78</td>\n",
       "</tr>\n",
       "<tr>\n",
       "  <th>Date:</th>             <td>Fri, 10 Dec 2021</td> <th>  Prob (F-statistic):</th> <td>2.85e-21</td>\n",
       "</tr>\n",
       "<tr>\n",
       "  <th>Time:</th>                 <td>16:32:05</td>     <th>  Log-Likelihood:    </th> <td> -189.52</td>\n",
       "</tr>\n",
       "<tr>\n",
       "  <th>No. Observations:</th>      <td>    63</td>      <th>  AIC:               </th> <td>   393.0</td>\n",
       "</tr>\n",
       "<tr>\n",
       "  <th>Df Residuals:</th>          <td>    56</td>      <th>  BIC:               </th> <td>   408.0</td>\n",
       "</tr>\n",
       "<tr>\n",
       "  <th>Df Model:</th>              <td>     6</td>      <th>                     </th>     <td> </td>   \n",
       "</tr>\n",
       "<tr>\n",
       "  <th>Covariance Type:</th>      <td>nonrobust</td>    <th>                     </th>     <td> </td>   \n",
       "</tr>\n",
       "</table>\n",
       "<table class=\"simpletable\">\n",
       "<tr>\n",
       "          <td></td>            <th>coef</th>     <th>std err</th>      <th>t</th>      <th>P>|t|</th>  <th>[0.025</th>    <th>0.975]</th>  \n",
       "</tr>\n",
       "<tr>\n",
       "  <th>const</th>            <td>   13.6538</td> <td>    5.015</td> <td>    2.723</td> <td> 0.009</td> <td>    3.607</td> <td>   23.700</td>\n",
       "</tr>\n",
       "<tr>\n",
       "  <th>Length (m)</th>       <td>   11.4054</td> <td>    0.978</td> <td>   11.661</td> <td> 0.000</td> <td>    9.446</td> <td>   13.365</td>\n",
       "</tr>\n",
       "<tr>\n",
       "  <th>Curva lenta</th>      <td>    3.0251</td> <td>    0.343</td> <td>    8.808</td> <td> 0.000</td> <td>    2.337</td> <td>    3.713</td>\n",
       "</tr>\n",
       "<tr>\n",
       "  <th>Curva media</th>      <td>   -1.4984</td> <td>    0.549</td> <td>   -2.728</td> <td> 0.008</td> <td>   -2.599</td> <td>   -0.398</td>\n",
       "</tr>\n",
       "<tr>\n",
       "  <th>Curva rapida</th>     <td>    0.5889</td> <td>    0.400</td> <td>    1.472</td> <td> 0.147</td> <td>   -0.212</td> <td>    1.390</td>\n",
       "</tr>\n",
       "<tr>\n",
       "  <th>Asphalt Grip</th>     <td>    4.1230</td> <td>    1.047</td> <td>    3.939</td> <td> 0.000</td> <td>    2.026</td> <td>    6.220</td>\n",
       "</tr>\n",
       "<tr>\n",
       "  <th>Asphalt Abrasion</th> <td>   -3.1871</td> <td>    0.880</td> <td>   -3.623</td> <td> 0.001</td> <td>   -4.949</td> <td>   -1.425</td>\n",
       "</tr>\n",
       "</table>\n",
       "<table class=\"simpletable\">\n",
       "<tr>\n",
       "  <th>Omnibus:</th>       <td>32.534</td> <th>  Durbin-Watson:     </th> <td>   1.898</td>\n",
       "</tr>\n",
       "<tr>\n",
       "  <th>Prob(Omnibus):</th> <td> 0.000</td> <th>  Jarque-Bera (JB):  </th> <td>  73.414</td>\n",
       "</tr>\n",
       "<tr>\n",
       "  <th>Skew:</th>          <td> 1.651</td> <th>  Prob(JB):          </th> <td>1.14e-16</td>\n",
       "</tr>\n",
       "<tr>\n",
       "  <th>Kurtosis:</th>      <td> 7.130</td> <th>  Cond. No.          </th> <td>    82.5</td>\n",
       "</tr>\n",
       "</table><br/><br/>Notes:<br/>[1] Standard Errors assume that the covariance matrix of the errors is correctly specified."
      ],
      "text/plain": [
       "<class 'statsmodels.iolib.summary.Summary'>\n",
       "\"\"\"\n",
       "                            OLS Regression Results                            \n",
       "==============================================================================\n",
       "Dep. Variable:                      y   R-squared:                       0.850\n",
       "Model:                            OLS   Adj. R-squared:                  0.834\n",
       "Method:                 Least Squares   F-statistic:                     52.78\n",
       "Date:                Fri, 10 Dec 2021   Prob (F-statistic):           2.85e-21\n",
       "Time:                        16:32:05   Log-Likelihood:                -189.52\n",
       "No. Observations:                  63   AIC:                             393.0\n",
       "Df Residuals:                      56   BIC:                             408.0\n",
       "Df Model:                           6                                         \n",
       "Covariance Type:            nonrobust                                         \n",
       "====================================================================================\n",
       "                       coef    std err          t      P>|t|      [0.025      0.975]\n",
       "------------------------------------------------------------------------------------\n",
       "const               13.6538      5.015      2.723      0.009       3.607      23.700\n",
       "Length (m)          11.4054      0.978     11.661      0.000       9.446      13.365\n",
       "Curva lenta          3.0251      0.343      8.808      0.000       2.337       3.713\n",
       "Curva media         -1.4984      0.549     -2.728      0.008      -2.599      -0.398\n",
       "Curva rapida         0.5889      0.400      1.472      0.147      -0.212       1.390\n",
       "Asphalt Grip         4.1230      1.047      3.939      0.000       2.026       6.220\n",
       "Asphalt Abrasion    -3.1871      0.880     -3.623      0.001      -4.949      -1.425\n",
       "==============================================================================\n",
       "Omnibus:                       32.534   Durbin-Watson:                   1.898\n",
       "Prob(Omnibus):                  0.000   Jarque-Bera (JB):               73.414\n",
       "Skew:                           1.651   Prob(JB):                     1.14e-16\n",
       "Kurtosis:                       7.130   Cond. No.                         82.5\n",
       "==============================================================================\n",
       "\n",
       "Notes:\n",
       "[1] Standard Errors assume that the covariance matrix of the errors is correctly specified.\n",
       "\"\"\""
      ]
     },
     "execution_count": 5,
     "metadata": {},
     "output_type": "execute_result"
    }
   ],
   "source": [
    "lista = datos_f1[[ 'Length (m)',\n",
    " 'Curva lenta',\n",
    " 'Curva media',\n",
    " 'Curva rapida',\n",
    " 'Asphalt Grip',\n",
    " 'Asphalt Abrasion']]\n",
    "\n",
    " \n",
    "X=lista\n",
    "X = X.astype('float64')\n",
    "y=datos_f1.values[:,0]\n",
    "y = y.astype('float64')\n",
    "mco1 = sm.OLS(y, sm.add_constant(X)).fit()\n",
    "\n",
    "mco1.summary()"
   ]
  },
  {
   "cell_type": "markdown",
   "metadata": {},
   "source": [
    "Nuestro nuevo modelo tiene un número condición de 82.5, que aparentemente no indica presencia de multicolinealidad. También tiene un $R^2$ de 0.85 y ajustado de 0.834. Por otro lado los valores de AIC y BIC son mejores para nuestro nuevo modelo.\n",
    "\n",
    "### Multicolinealidad\n",
    "\n",
    "Hemos tomado como criterio para resolver la multicolinealidad el número condición, por ello es posible que la matriz de correlación o algún VIF tomen valores preocupantes. Aun así esta matriz de correlaciones es más correcta que la que teníamos en un principio."
   ]
  },
  {
   "cell_type": "code",
   "execution_count": 6,
   "metadata": {},
   "outputs": [
    {
     "name": "stdout",
     "output_type": "stream",
     "text": [
      "[[ 1.          0.00753052  0.13372822  0.29054151  0.36949531  0.46805826]\n",
      " [ 0.00753052  1.         -0.06111079 -0.39084757 -0.50398903 -0.12775327]\n",
      " [ 0.13372822 -0.06111079  1.         -0.24789618  0.4831656   0.22624666]\n",
      " [ 0.29054151 -0.39084757 -0.24789618  1.          0.18379252  0.17162219]\n",
      " [ 0.36949531 -0.50398903  0.4831656   0.18379252  1.          0.59086427]\n",
      " [ 0.46805826 -0.12775327  0.22624666  0.17162219  0.59086427  1.        ]]\n"
     ]
    }
   ],
   "source": [
    "corr_matrix=np.corrcoef(X.T)\n",
    "print(corr_matrix)"
   ]
  },
  {
   "cell_type": "code",
   "execution_count": 7,
   "metadata": {},
   "outputs": [
    {
     "data": {
      "image/png": "[encoded data removed]",
      "text/plain": [
       "<Figure size 432x288 with 2 Axes>"
      ]
     },
     "metadata": {
      "needs_background": "light"
     },
     "output_type": "display_data"
    }
   ],
   "source": [
    "import statsmodels.graphics.api as smg\n",
    "import matplotlib.pylab as plt\n",
    "smg.plot_corr(corr_matrix, xnames=['Length (m)',\n",
    "    'Curva lenta',\n",
    "    'Curva media',\n",
    "    'Curva rapida',\n",
    "    'Asphalt Grip',\n",
    "    'Asphalt Abrasion'])\n",
    "plt.show()"
   ]
  },
  {
   "cell_type": "markdown",
   "metadata": {},
   "source": [
    "### VIF\n",
    "\n",
    "Al igual que con la matriz de correlación, los nuevos VIF son mejores que en el modelo anterior. Sin embargo, no hemos conseguido disminuir el factor de todas las variables, continuando varias en niveles preocupantes."
   ]
  },
  {
   "cell_type": "code",
   "execution_count": 8,
   "metadata": {},
   "outputs": [
    {
     "data": {
      "text/plain": [
       "[41.28812918135159,\n",
       " 7.949618256746982,\n",
       " 19.351884667157172,\n",
       " 6.36234153030487,\n",
       " 20.563114067024074,\n",
       " 13.616582053542007]"
      ]
     },
     "execution_count": 8,
     "metadata": {},
     "output_type": "execute_result"
    }
   ],
   "source": [
    "import statsmodels.stats.outliers_influence as oi\n",
    "vifs=[oi.variance_inflation_factor(X.values, i) for i in range(X.shape[1])]\n",
    "vifs"
   ]
  },
  {
   "cell_type": "markdown",
   "metadata": {},
   "source": [
    "### Heteroscedasticidad\n",
    "\n",
    "Hemos realizado los tests de Goldfeld-Quandt, Breusch-Pagan y White donde sólo el primero de estos nos indica que existe un problema de heteroscedasticidad (varianzas diferentes para cada individuo). Esto se puede deber a que el test de Goldfeld-Quandt es para muestras pequeñas y las demás para muestras grandes. \n",
    "En nuestro caso tenemos 63 muestras, algo que no podemos clasificar sin lugar a dudas como una muestra grande o como una muestra pequeña. Por ello ante la duda decidimos hacer el test de Glejser y si hay algún problema arreglarlo tal y como indique este test."
   ]
  },
  {
   "cell_type": "code",
   "execution_count": 9,
   "metadata": {},
   "outputs": [
    {
     "name": "stdout",
     "output_type": "stream",
     "text": [
      "Het-Goldfelquandt (22.395983859110476, 8.91817819186668e-08, 'increasing')\n",
      "Het-Breuschpagan (9.74808871156059, 0.13566929814691386, 1.7085238652767456, 0.13597834675774265)\n",
      "Het-Whithe (20.702735884342026, 0.4148111973097286, 1.0278618786841114, 0.453548091635767)\n"
     ]
    }
   ],
   "source": [
    "GQ=sms.het_goldfeldquandt(mco1.model.endog, mco1.model.exog, split=3)\n",
    "print('Het-Goldfelquandt', GQ)\n",
    "\n",
    "BP=sms.het_breuschpagan(mco1.resid, mco1.model.exog)\n",
    "print('Het-Breuschpagan', BP)\n",
    "\n",
    "WH=sms.het_white(mco1.resid, mco1.model.exog)\n",
    "print('Het-Whithe', WH) "
   ]
  },
  {
   "cell_type": "markdown",
   "metadata": {},
   "source": [
    "### Glejser\n",
    "\n",
    "Tal y como está programado el test de Glejser hacemos lo siguiente:\n",
    "- En cada una de las variables comprobamos si hay relación lineal entre los residuos del modelo inicial y la variable elevada a -2, -1, -0.5, 0,5, 1, 2.\n",
    "- A continuación debemos comprobar si su pvalor es menor que el alfa (de forma que confirme problema de heteroscedasticidad) y que su $R^2$ sea el máximo ya que es con el que nos quedaremos.\n",
    "\n",
    "Los resultados nos indicaron que la variable $Asphalt Abrasion^2$ daba problemas de heteroscedasticidad por lo que decidimos estimar el modelo a través del modelo lineal ponderado por $\\frac{1}{\\sqrt{Asphalt Abrasion^2}}$, solucionando así los problemas de heteroscedasticidad."
   ]
  },
  {
   "cell_type": "code",
   "execution_count": 10,
   "metadata": {},
   "outputs": [
    {
     "name": "stdout",
     "output_type": "stream",
     "text": [
      "Length (m)\n",
      "Curva lenta\n",
      "Curva media\n",
      "Curva rapida\n",
      "Asphalt Grip\n",
      "Asphalt Abrasion\n",
      "La variable: Asphalt Abrasion elevado a  2  daba problema de heteroscedasticidad\n"
     ]
    },
    {
     "data": {
      "text/html": [
       "<table class=\"simpletable\">\n",
       "<caption>WLS Regression Results</caption>\n",
       "<tr>\n",
       "  <th>Dep. Variable:</th>            <td>y</td>        <th>  R-squared:         </th> <td>   0.906</td>\n",
       "</tr>\n",
       "<tr>\n",
       "  <th>Model:</th>                   <td>WLS</td>       <th>  Adj. R-squared:    </th> <td>   0.896</td>\n",
       "</tr>\n",
       "<tr>\n",
       "  <th>Method:</th>             <td>Least Squares</td>  <th>  F-statistic:       </th> <td>   89.96</td>\n",
       "</tr>\n",
       "<tr>\n",
       "  <th>Date:</th>             <td>Fri, 10 Dec 2021</td> <th>  Prob (F-statistic):</th> <td>6.36e-27</td>\n",
       "</tr>\n",
       "<tr>\n",
       "  <th>Time:</th>                 <td>16:32:06</td>     <th>  Log-Likelihood:    </th> <td> -181.22</td>\n",
       "</tr>\n",
       "<tr>\n",
       "  <th>No. Observations:</th>      <td>    63</td>      <th>  AIC:               </th> <td>   376.4</td>\n",
       "</tr>\n",
       "<tr>\n",
       "  <th>Df Residuals:</th>          <td>    56</td>      <th>  BIC:               </th> <td>   391.4</td>\n",
       "</tr>\n",
       "<tr>\n",
       "  <th>Df Model:</th>              <td>     6</td>      <th>                     </th>     <td> </td>   \n",
       "</tr>\n",
       "<tr>\n",
       "  <th>Covariance Type:</th>      <td>nonrobust</td>    <th>                     </th>     <td> </td>   \n",
       "</tr>\n",
       "</table>\n",
       "<table class=\"simpletable\">\n",
       "<tr>\n",
       "          <td></td>            <th>coef</th>     <th>std err</th>      <th>t</th>      <th>P>|t|</th>  <th>[0.025</th>    <th>0.975]</th>  \n",
       "</tr>\n",
       "<tr>\n",
       "  <th>const</th>            <td>   12.1570</td> <td>    3.549</td> <td>    3.426</td> <td> 0.001</td> <td>    5.048</td> <td>   19.266</td>\n",
       "</tr>\n",
       "<tr>\n",
       "  <th>Length (m)</th>       <td>   11.9341</td> <td>    0.737</td> <td>   16.185</td> <td> 0.000</td> <td>   10.457</td> <td>   13.411</td>\n",
       "</tr>\n",
       "<tr>\n",
       "  <th>Curva lenta</th>      <td>    2.7099</td> <td>    0.241</td> <td>   11.242</td> <td> 0.000</td> <td>    2.227</td> <td>    3.193</td>\n",
       "</tr>\n",
       "<tr>\n",
       "  <th>Curva media</th>      <td>   -1.2861</td> <td>    0.478</td> <td>   -2.693</td> <td> 0.009</td> <td>   -2.243</td> <td>   -0.329</td>\n",
       "</tr>\n",
       "<tr>\n",
       "  <th>Curva rapida</th>     <td>    0.2801</td> <td>    0.347</td> <td>    0.806</td> <td> 0.424</td> <td>   -0.416</td> <td>    0.976</td>\n",
       "</tr>\n",
       "<tr>\n",
       "  <th>Asphalt Grip</th>     <td>    3.4334</td> <td>    0.973</td> <td>    3.529</td> <td> 0.001</td> <td>    1.484</td> <td>    5.382</td>\n",
       "</tr>\n",
       "<tr>\n",
       "  <th>Asphalt Abrasion</th> <td>   -2.3568</td> <td>    0.762</td> <td>   -3.094</td> <td> 0.003</td> <td>   -3.883</td> <td>   -0.831</td>\n",
       "</tr>\n",
       "</table>\n",
       "<table class=\"simpletable\">\n",
       "<tr>\n",
       "  <th>Omnibus:</th>       <td>33.560</td> <th>  Durbin-Watson:     </th> <td>   1.806</td>\n",
       "</tr>\n",
       "<tr>\n",
       "  <th>Prob(Omnibus):</th> <td> 0.000</td> <th>  Jarque-Bera (JB):  </th> <td>  84.892</td>\n",
       "</tr>\n",
       "<tr>\n",
       "  <th>Skew:</th>          <td> 1.634</td> <th>  Prob(JB):          </th> <td>3.68e-19</td>\n",
       "</tr>\n",
       "<tr>\n",
       "  <th>Kurtosis:</th>      <td> 7.654</td> <th>  Cond. No.          </th> <td>    68.1</td>\n",
       "</tr>\n",
       "</table><br/><br/>Notes:<br/>[1] Standard Errors assume that the covariance matrix of the errors is correctly specified."
      ],
      "text/plain": [
       "<class 'statsmodels.iolib.summary.Summary'>\n",
       "\"\"\"\n",
       "                            WLS Regression Results                            \n",
       "==============================================================================\n",
       "Dep. Variable:                      y   R-squared:                       0.906\n",
       "Model:                            WLS   Adj. R-squared:                  0.896\n",
       "Method:                 Least Squares   F-statistic:                     89.96\n",
       "Date:                Fri, 10 Dec 2021   Prob (F-statistic):           6.36e-27\n",
       "Time:                        16:32:06   Log-Likelihood:                -181.22\n",
       "No. Observations:                  63   AIC:                             376.4\n",
       "Df Residuals:                      56   BIC:                             391.4\n",
       "Df Model:                           6                                         \n",
       "Covariance Type:            nonrobust                                         \n",
       "====================================================================================\n",
       "                       coef    std err          t      P>|t|      [0.025      0.975]\n",
       "------------------------------------------------------------------------------------\n",
       "const               12.1570      3.549      3.426      0.001       5.048      19.266\n",
       "Length (m)          11.9341      0.737     16.185      0.000      10.457      13.411\n",
       "Curva lenta          2.7099      0.241     11.242      0.000       2.227       3.193\n",
       "Curva media         -1.2861      0.478     -2.693      0.009      -2.243      -0.329\n",
       "Curva rapida         0.2801      0.347      0.806      0.424      -0.416       0.976\n",
       "Asphalt Grip         3.4334      0.973      3.529      0.001       1.484       5.382\n",
       "Asphalt Abrasion    -2.3568      0.762     -3.094      0.003      -3.883      -0.831\n",
       "==============================================================================\n",
       "Omnibus:                       33.560   Durbin-Watson:                   1.806\n",
       "Prob(Omnibus):                  0.000   Jarque-Bera (JB):               84.892\n",
       "Skew:                           1.634   Prob(JB):                     3.68e-19\n",
       "Kurtosis:                       7.654   Cond. No.                         68.1\n",
       "==============================================================================\n",
       "\n",
       "Notes:\n",
       "[1] Standard Errors assume that the covariance matrix of the errors is correctly specified.\n",
       "\"\"\""
      ]
     },
     "execution_count": 10,
     "metadata": {},
     "output_type": "execute_result"
    }
   ],
   "source": [
    "headers = datos_f1.columns\n",
    "header_maximo=\"\"\n",
    "alpha=0.05\n",
    "h_max=0.0\n",
    "r_max=0.0\n",
    "\n",
    "elements = [ 'Length (m)',\n",
    " 'Curva lenta',\n",
    " 'Curva media',\n",
    " 'Curva rapida',\n",
    " 'Asphalt Grip',\n",
    " 'Asphalt Abrasion']\n",
    "\n",
    "for indice in elements:\n",
    "    print(indice)\n",
    "    z=datos_f1[indice]\n",
    "    z = z.astype('float64')\n",
    "    for h in [-2,-1,-0.5,0.5,1,2]:\n",
    "        mcoaux=sm.OLS(abs(mco1.resid),sm.add_constant((z**h))).fit()\n",
    "        pval=mcoaux.pvalues[1]\n",
    "        r2=mcoaux.rsquared\n",
    "        if((pval<alpha) and (r2>r_max)):\n",
    "            r_max=r2\n",
    "            header_max=indice\n",
    "            h_max = h\n",
    "\n",
    "print(\"La variable: \" + header_max + \" elevado a \", h_max, \" daba problema de heteroscedasticidad\")\n",
    "z = datos_f1[header_max].astype('float64')\n",
    "mcp = sm.WLS(y, sm.add_constant(X), weights=(1/np.sqrt(z**h_max))).fit()\n",
    "mcp.summary()"
   ]
  },
  {
   "cell_type": "markdown",
   "metadata": {},
   "source": [
    "### Autocorrelación\n",
    "\n",
    "Observamos que en el test de Durbin-Watson nos da un número de 1.8402 siendo el teórico de apróximadamente (suponemos 65 muestras) dL=1.438 du= 1.767 por lo que está dentro del intervalo $1.767 < 1.8402 < 2.233$. \n",
    "\n",
    "Igualmente decidimos aplicar la solución iterativa de Cochrane-Orcutt hasta llegar a un valor de Durbin-Watson de 2.008."
   ]
  },
  {
   "cell_type": "code",
   "execution_count": 11,
   "metadata": {},
   "outputs": [
    {
     "name": "stdout",
     "output_type": "stream",
     "text": [
      "Durbin-Watson es  1.8402520662727382\n"
     ]
    },
    {
     "data": {
      "text/html": [
       "<table class=\"simpletable\">\n",
       "<caption>GLSAR Regression Results</caption>\n",
       "<tr>\n",
       "  <th>Dep. Variable:</th>            <td>y</td>        <th>  R-squared:         </th> <td>   0.839</td>\n",
       "</tr>\n",
       "<tr>\n",
       "  <th>Model:</th>                  <td>GLSAR</td>      <th>  Adj. R-squared:    </th> <td>   0.822</td>\n",
       "</tr>\n",
       "<tr>\n",
       "  <th>Method:</th>             <td>Least Squares</td>  <th>  F-statistic:       </th> <td>   47.94</td>\n",
       "</tr>\n",
       "<tr>\n",
       "  <th>Date:</th>             <td>Fri, 10 Dec 2021</td> <th>  Prob (F-statistic):</th> <td>4.26e-20</td>\n",
       "</tr>\n",
       "<tr>\n",
       "  <th>Time:</th>                 <td>16:32:06</td>     <th>  Log-Likelihood:    </th> <td> -186.92</td>\n",
       "</tr>\n",
       "<tr>\n",
       "  <th>No. Observations:</th>      <td>    62</td>      <th>  AIC:               </th> <td>   387.8</td>\n",
       "</tr>\n",
       "<tr>\n",
       "  <th>Df Residuals:</th>          <td>    55</td>      <th>  BIC:               </th> <td>   402.7</td>\n",
       "</tr>\n",
       "<tr>\n",
       "  <th>Df Model:</th>              <td>     6</td>      <th>                     </th>     <td> </td>   \n",
       "</tr>\n",
       "<tr>\n",
       "  <th>Covariance Type:</th>      <td>nonrobust</td>    <th>                     </th>     <td> </td>   \n",
       "</tr>\n",
       "</table>\n",
       "<table class=\"simpletable\">\n",
       "<tr>\n",
       "          <td></td>            <th>coef</th>     <th>std err</th>      <th>t</th>      <th>P>|t|</th>  <th>[0.025</th>    <th>0.975]</th>  \n",
       "</tr>\n",
       "<tr>\n",
       "  <th>const</th>            <td>   14.3396</td> <td>    5.255</td> <td>    2.729</td> <td> 0.009</td> <td>    3.809</td> <td>   24.870</td>\n",
       "</tr>\n",
       "<tr>\n",
       "  <th>Length (m)</th>       <td>   11.3766</td> <td>    1.025</td> <td>   11.094</td> <td> 0.000</td> <td>    9.322</td> <td>   13.432</td>\n",
       "</tr>\n",
       "<tr>\n",
       "  <th>Curva lenta</th>      <td>    2.9910</td> <td>    0.359</td> <td>    8.342</td> <td> 0.000</td> <td>    2.272</td> <td>    3.710</td>\n",
       "</tr>\n",
       "<tr>\n",
       "  <th>Curva media</th>      <td>   -1.5114</td> <td>    0.581</td> <td>   -2.602</td> <td> 0.012</td> <td>   -2.675</td> <td>   -0.347</td>\n",
       "</tr>\n",
       "<tr>\n",
       "  <th>Curva rapida</th>     <td>    0.5559</td> <td>    0.420</td> <td>    1.325</td> <td> 0.191</td> <td>   -0.285</td> <td>    1.397</td>\n",
       "</tr>\n",
       "<tr>\n",
       "  <th>Asphalt Grip</th>     <td>    4.0381</td> <td>    1.144</td> <td>    3.529</td> <td> 0.001</td> <td>    1.745</td> <td>    6.331</td>\n",
       "</tr>\n",
       "<tr>\n",
       "  <th>Asphalt Abrasion</th> <td>   -3.1645</td> <td>    0.947</td> <td>   -3.340</td> <td> 0.002</td> <td>   -5.063</td> <td>   -1.266</td>\n",
       "</tr>\n",
       "</table>\n",
       "<table class=\"simpletable\">\n",
       "<tr>\n",
       "  <th>Omnibus:</th>       <td>33.875</td> <th>  Durbin-Watson:     </th> <td>   2.008</td>\n",
       "</tr>\n",
       "<tr>\n",
       "  <th>Prob(Omnibus):</th> <td> 0.000</td> <th>  Jarque-Bera (JB):  </th> <td>  78.989</td>\n",
       "</tr>\n",
       "<tr>\n",
       "  <th>Skew:</th>          <td> 1.728</td> <th>  Prob(JB):          </th> <td>7.04e-18</td>\n",
       "</tr>\n",
       "<tr>\n",
       "  <th>Kurtosis:</th>      <td> 7.316</td> <th>  Cond. No.          </th> <td>    80.3</td>\n",
       "</tr>\n",
       "</table><br/><br/>Notes:<br/>[1] Standard Errors assume that the covariance matrix of the errors is correctly specified."
      ],
      "text/plain": [
       "<class 'statsmodels.iolib.summary.Summary'>\n",
       "\"\"\"\n",
       "                           GLSAR Regression Results                           \n",
       "==============================================================================\n",
       "Dep. Variable:                      y   R-squared:                       0.839\n",
       "Model:                          GLSAR   Adj. R-squared:                  0.822\n",
       "Method:                 Least Squares   F-statistic:                     47.94\n",
       "Date:                Fri, 10 Dec 2021   Prob (F-statistic):           4.26e-20\n",
       "Time:                        16:32:06   Log-Likelihood:                -186.92\n",
       "No. Observations:                  62   AIC:                             387.8\n",
       "Df Residuals:                      55   BIC:                             402.7\n",
       "Df Model:                           6                                         \n",
       "Covariance Type:            nonrobust                                         \n",
       "====================================================================================\n",
       "                       coef    std err          t      P>|t|      [0.025      0.975]\n",
       "------------------------------------------------------------------------------------\n",
       "const               14.3396      5.255      2.729      0.009       3.809      24.870\n",
       "Length (m)          11.3766      1.025     11.094      0.000       9.322      13.432\n",
       "Curva lenta          2.9910      0.359      8.342      0.000       2.272       3.710\n",
       "Curva media         -1.5114      0.581     -2.602      0.012      -2.675      -0.347\n",
       "Curva rapida         0.5559      0.420      1.325      0.191      -0.285       1.397\n",
       "Asphalt Grip         4.0381      1.144      3.529      0.001       1.745       6.331\n",
       "Asphalt Abrasion    -3.1645      0.947     -3.340      0.002      -5.063      -1.266\n",
       "==============================================================================\n",
       "Omnibus:                       33.875   Durbin-Watson:                   2.008\n",
       "Prob(Omnibus):                  0.000   Jarque-Bera (JB):               78.989\n",
       "Skew:                           1.728   Prob(JB):                     7.04e-18\n",
       "Kurtosis:                       7.316   Cond. No.                         80.3\n",
       "==============================================================================\n",
       "\n",
       "Notes:\n",
       "[1] Standard Errors assume that the covariance matrix of the errors is correctly specified.\n",
       "\"\"\""
      ]
     },
     "execution_count": 11,
     "metadata": {},
     "output_type": "execute_result"
    }
   ],
   "source": [
    "from statsmodels.stats.stattools import durbin_watson\n",
    "dw=durbin_watson(mcp.resid)\n",
    "print(\"Durbin-Watson es \", dw)\n",
    "rho= 1 - dw/2\n",
    "mco_autocorr=sm.GLSAR(y, sm.add_constant(X), rho=rho)\n",
    "res=mco_autocorr.iterative_fit(maxiter=100 , rtol=10**(-10))\n",
    "res.summary()"
   ]
  },
  {
   "cell_type": "markdown",
   "metadata": {},
   "source": [
    "### Linealidad\n",
    "\n",
    "**Test Harvey-Collier**\n",
    "\n",
    "El primer bloque de código trata de arreglar un problema que teníamos al intentar hacer el test de Harvey-Collier, ya que nos daba error en el skip a la hora de calcularlo. Al ejecutar la formula directamente nos encontrabamos este error, por lo que ejecutamos manualmente el código del test.Utilizamos un skip de 19 porque era el primero que no nos daba NaN como resultado.\n",
    "\n",
    "Como nuestro pvalor es mayor que nuestra alfa no rechazamos la hipótesis nula (nuestro modelo se puede plantear como una ecuación lineal)."
   ]
  },
  {
   "cell_type": "code",
   "execution_count": 12,
   "metadata": {},
   "outputs": [
    {
     "data": {
      "text/plain": [
       "Ttest_1sampResult(statistic=nan, pvalue=nan)"
      ]
     },
     "execution_count": 12,
     "metadata": {},
     "output_type": "execute_result"
    }
   ],
   "source": [
    "import statsmodels.stats.diagnostic as diagn\n",
    "\n",
    "diagn.linear_harvey_collier(res, skip=19) # si nuestro alpha es menor que el p valor, hay linelidad, no se rechaza hipotesis nula"
   ]
  },
  {
   "cell_type": "code",
   "execution_count": 13,
   "metadata": {},
   "outputs": [
    {
     "data": {
      "text/plain": [
       "Ttest_1sampResult(statistic=1.8997565698072256, pvalue=0.06418508537169498)"
      ]
     },
     "execution_count": 13,
     "metadata": {},
     "output_type": "execute_result"
    }
   ],
   "source": [
    "from scipy import stats \n",
    "skip = 19 #len(res.params) bug in linear_harvey_collier\n",
    "rr = sms.recursive_olsresiduals(res, skip=skip, alpha=0.95, order_by=None)\n",
    "stats.ttest_1samp(rr[3][skip:], 0)"
   ]
  },
  {
   "cell_type": "markdown",
   "metadata": {},
   "source": [
    "**Test Reset de Ramsey**\n",
    "\n",
    "Al igual que para el anterior como nuestro pvalor es mayor a nuestro alfa no rechazamos la hipótesis nula."
   ]
  },
  {
   "cell_type": "code",
   "execution_count": 14,
   "metadata": {},
   "outputs": [
    {
     "name": "stdout",
     "output_type": "stream",
     "text": [
      "<F test: F=array([[0.27305626]]), p=0.6033875411755965, df_denom=55, df_num=1>\n"
     ]
    }
   ],
   "source": [
    "import statsmodels.stats.outliers_influence as oi\n",
    "rr=oi.reset_ramsey(res, degree=2)\n",
    "print (rr)"
   ]
  },
  {
   "cell_type": "markdown",
   "metadata": {},
   "source": [
    "### Normalidad de los residuos\n",
    "\n",
    "- Jarque-Bera: Test de hipótesis que contrasta si los datos de la muestra tienen el coeficiente de simetría y la curtósis de una distribución normal.\n",
    "- $\\chi^2$ (p-valor): p-valor del test de Jaque-Bera.\n",
    "- Skew: Coeficiente de simetría de pearson de los residuos.\n",
    "- Kurtosis: Coeficiente de apuntamiento de los residuos.\n",
    "- Komogorov-Smirnov: test de hipótesis para contrastar si una muestra proviene de una distribución (en este caso normal)."
   ]
  },
  {
   "cell_type": "code",
   "execution_count": 15,
   "metadata": {},
   "outputs": [
    {
     "name": "stdout",
     "output_type": "stream",
     "text": [
      "Jarque-Bera 76.76212656414955\n",
      "Chi^2 two-tail prob. 2.1444504065430605e-17\n",
      "Skew 1.6799857401403864\n",
      "Kurtosis 7.23713423592888\n"
     ]
    }
   ],
   "source": [
    "import statsmodels.stats.api as sms\n",
    "name = ['Jarque-Bera', 'Chi^2 two-tail prob.', 'Skew', 'Kurtosis']\n",
    "test = sms.jarque_bera(res.resid)\n",
    "for i in range(4):\n",
    "    print(name[i], test[i]) # para rechazar hipotesis nula de normalidad, tine que ser el pvlor mas chico que 0.05 nuestro alpha\n",
    "                            # para que sea simetrica tiene que ser 0 la skew\n",
    "                            # para que la kurtosis sea normal tiene que ser de 4"
   ]
  },
  {
   "cell_type": "markdown",
   "metadata": {},
   "source": [
    "Respecto a la normalidad de los residuos, mediante el test de chi^2 obtenemos un pvalor menor que nuestro alfa, por lo que no podemos asegurar que siga una distribución normal. Para ello también hemos recurrido a métodos gráficos: gráfica de los residuos y de los cuantiles. Observamos que la primera se asemeja vagamente a una normal y la segunda contiene muchos puntos por debajo de la línea roja, lo que también rechaza la normalidad. Además el coeficiente de Kurtosis nos sale 7, cuando debería estar entre 4 y 6."
   ]
  },
  {
   "cell_type": "code",
   "execution_count": 16,
   "metadata": {},
   "outputs": [
    {
     "data": {
      "image/png": "[encoded data removed]",
      "text/plain": [
       "<Figure size 432x288 with 1 Axes>"
      ]
     },
     "metadata": {
      "needs_background": "light"
     },
     "output_type": "display_data"
    },
    {
     "data": {
      "image/png": "[encoded data removed]",
      "text/plain": [
       "<Figure size 432x288 with 1 Axes>"
      ]
     },
     "metadata": {
      "needs_background": "light"
     },
     "output_type": "display_data"
    }
   ],
   "source": [
    "from matplotlib import pyplot\n",
    "from statsmodels.graphics.gofplots import qqplot\n",
    "\n",
    "pyplot.hist(res.resid)\n",
    "pyplot.show()\n",
    "qqplot(res.resid, line='s')\n",
    "pyplot.show()"
   ]
  },
  {
   "cell_type": "code",
   "execution_count": 17,
   "metadata": {},
   "outputs": [
    {
     "data": {
      "text/plain": [
       "(0.13583628079337862, 0.00895822888898061)"
      ]
     },
     "execution_count": 17,
     "metadata": {},
     "output_type": "execute_result"
    }
   ],
   "source": [
    "import statsmodels.stats.diagnostic as diag\n",
    "\n",
    "diag.kstest_normal(res.resid)"
   ]
  },
  {
   "cell_type": "markdown",
   "metadata": {},
   "source": [
    "Podemos observar como el pvalor del test de Komogorov-Smirnov indica que se rechaza la hipótesis nula, es decir, los residuos no siguen una distribución normal, lo que tiene una gran repercusión en el resultado de nuestro modelo."
   ]
  },
  {
   "cell_type": "markdown",
   "metadata": {},
   "source": [
    "## Predicciones sobre nuevos circuitos F1"
   ]
  },
  {
   "cell_type": "markdown",
   "metadata": {},
   "source": [
    "### Circuito de Jeddah (Arabia Saudí)\n",
    "\n",
    "Length (m) = 6174\n",
    "\n",
    "Curva lenta = 2\n",
    "\n",
    "Curva media = 2\n",
    "\n",
    "Curva rapida = 4\n",
    "\n",
    "Asphalt Grip = 3\n",
    "\n",
    "Asphalt Abrasion = 2"
   ]
  },
  {
   "cell_type": "code",
   "execution_count": 18,
   "metadata": {},
   "outputs": [
    {
     "name": "stdout",
     "output_type": "stream",
     "text": [
      "[70264.69415331]  y tenia que haber sido  87653\n",
      "Le ha faltado [17388.30584669] se produce un acierto del  [80.16233803] %\n"
     ]
    }
   ],
   "source": [
    "valores = [1, 6174, 2, 2, 4, 3, 2]\n",
    "tiempo = res.predict(valores)\n",
    "\n",
    "print (tiempo , \" y tenia que haber sido \" , 87653)\n",
    "print ( \"Le ha faltado\", 87653-tiempo, \"se produce un acierto del \",(tiempo/87653)*100,\"%\")"
   ]
  },
  {
   "cell_type": "markdown",
   "metadata": {},
   "source": [
    "### Circuito de Losail (Qatar)\n",
    "\n",
    "Length (m) = 5380\n",
    "\n",
    "Curva lenta = 1\n",
    "\n",
    "Curva media = 5\n",
    "\n",
    "Curva rapida = 5\n",
    "\n",
    "Asphalt Grip = 3\n",
    "\n",
    "Asphalt Abrasion = 4"
   ]
  },
  {
   "cell_type": "code",
   "execution_count": 19,
   "metadata": {},
   "outputs": [
    {
     "name": "stdout",
     "output_type": "stream",
     "text": [
      "[61218.34214472]  y tenia que haber sido  81478\n",
      "Le ha faltado [20259.65785528] se produce un acierto del  [75.13481203] %\n"
     ]
    }
   ],
   "source": [
    "valores = [1, 5380, 1, 5, 5, 3, 4]\n",
    "tiempo = res.predict(valores)\n",
    "\n",
    "print (tiempo , \" y tenia que haber sido \" , 81478)\n",
    "print ( \"Le ha faltado\", 81478-tiempo, \"se produce un acierto del \",(tiempo/81478)*100,\"%\")"
   ]
  },
  {
   "cell_type": "markdown",
   "metadata": {},
   "source": [
    "### Circuito de Estambul (Turquía)\n",
    "\n",
    "Length (m) = 5338\n",
    "\n",
    "Curva lenta = 4\n",
    "\n",
    "Curva media = 5\n",
    "\n",
    "Curva rapida = 3\n",
    "\n",
    "Asphalt Grip = 3\n",
    "\n",
    "Asphalt Abrasion = 4"
   ]
  },
  {
   "cell_type": "code",
   "execution_count": 20,
   "metadata": {},
   "outputs": [
    {
     "name": "stdout",
     "output_type": "stream",
     "text": [
      "[60748.3845085]  y tenia que haber sido  83196\n",
      "Le ha faltado [22447.6154915] se produce un fallo del  [73.01839573] %\n"
     ]
    }
   ],
   "source": [
    "valores = [1, 5338, 4, 5, 3, 3, 4]\n",
    "tiempo = res.predict(valores)\n",
    "\n",
    "print (tiempo , \" y tenia que haber sido \" , 83196)\n",
    "print ( \"Le ha faltado\", 83196-tiempo, \"se produce un fallo del \",(tiempo/83196)*100,\"%\")"
   ]
  },
  {
   "cell_type": "markdown",
   "metadata": {},
   "source": [
    "## Conclusiones sobre el modelo\n",
    "\n",
    "Respecto a las predicciones debemos tener en cuenta que el $R^2$ es bastante alto y que las predicciones observadas fallaban en un rango en torno al 25%. Estas predicciones serían poco significativas para el mundo del motorsport debido a su elevada precisión; aunque no consideramos que sea un modelo completamente erróneo.\n",
    "\n",
    "Hemos acabado obteniendo un modelo homocedástico y sin autocorrelación ni multicolinealidad, sin embargo, hemos observado como se rechaza la normalidad de sus residuos a través del test de Komogorov-Smirnov. Por ello podemos concluir que no está planteado correctamente y debería ser rechazado al no cumplir con uno de los supuestos básicos (los residuos siguen una distribución normal de media 0 y varianza $\\sigma^2 * I$). Esto hace que los $\\beta$ no sigan una distribución normal y por ello no se pueda hacer inferencia, ni test de hipótesis fiables sobre la significación del modelo. Igual ocurre con la varianza, de la cual ya no podemos decir que siga una $\\chi^2$ y por ello ser estimada.\n",
    "\n",
    "### Posibles mejoras\n",
    "\n",
    "El modelo se podría mejorar logrando variables más concisas como por ejemplo los metros de curva lenta, media y rápida más que el número de curvas ya que dependiendo de si hay más metros hay que perder más velocidad o menos. También podríamos obtener cuanta carga aerodinámica trasera o delantera tiene el coche. \n",
    "\n",
    "En general, conseguir variables más precisas (y que no son de dominio público) que nos permitan construir otro modelo con variables que quizás demuestren la normalidad de los residuos."
   ]
  }
 ],
 "metadata": {
  "authors": [
   {
    "name": "Miguel Tirado Guzmán"
   },
   {
    "name": "José Luis Rico Ramos"
   },
   {
    "name": "Pablo Luque Salguero"
   }
  ],
  "interpreter": {
   "hash": "45beaf1bbaf1f4539db6cc65708e9bc09be995c5454858dbd2322c7e6d854a88"
  },
  "kernelspec": {
   "display_name": "Python 3",
   "language": "python",
   "name": "python3"
  },
  "language_info": {
   "codemirror_mode": {
    "name": "ipython",
    "version": 3
   },
   "file_extension": ".py",
   "mimetype": "text/x-python",
   "name": "python",
   "nbconvert_exporter": "python",
   "pygments_lexer": "ipython3",
   "version": "3.8.8"
  }
 },
 "nbformat": 4,
 "nbformat_minor": 2
}
